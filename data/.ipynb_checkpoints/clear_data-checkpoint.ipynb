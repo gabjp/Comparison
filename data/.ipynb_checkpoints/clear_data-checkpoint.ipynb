{
 "cells": [
  {
   "cell_type": "markdown",
   "metadata": {},
   "source": [
    "# Explicação\n",
    "Nesse arquivo há:\n",
    "- Limpeza de dados usados para a classificação.\n",
    "- Uma breve análise desses dados."
   ]
  },
  {
   "cell_type": "code",
   "execution_count": 1,
   "metadata": {},
   "outputs": [],
   "source": [
    "from astropy.stats import sigma_clip, mad_std\n",
    "from astropy.table import Table\n",
    "import pandas as pd\n",
    "import numpy as np\n",
    "import matplotlib.pyplot as plt"
   ]
  },
  {
   "cell_type": "code",
   "execution_count": 2,
   "metadata": {},
   "outputs": [],
   "source": [
    "# From: https://github.com/marixko/MNRAS_nakazono_2021\n",
    "\n",
    "def apply_sigma_clip(data, mag_splus, mag_sdss, sigma_value=4):\n",
    "    '''\n",
    "    Apply n-sigma clipping on the S-PLUS and SDSS magnitude difference per \n",
    "    magnitude (from S-PLUS) bin of size 0.5 \n",
    "    \n",
    "    Keywords arguments:\n",
    "    data -- full dataset\n",
    "    mag_splus -- magnitude from S-PLUS\n",
    "    mag_sdss -- magnitude from SDSS\n",
    "    sigma_value -- value of n (default: 4)\n",
    "    create_plot -- determine if plot of mag_sdss - mag_splus x mag_splus is created\n",
    "    \n",
    "    returns a subset from data that pass through n-sigma clipping\n",
    "    '''\n",
    "    aux2 = data\n",
    "    final_data = pd.DataFrame([])\n",
    "    for i in np.arange(np.floor(np.min(data.query(mag_splus+'!=99 and '+mag_splus+'!=-99')[mag_splus])), np.ceil(np.max(data.query(mag_splus+'!=99 and '+mag_splus+'!=-99')[mag_splus])), 0.5):\n",
    "        aux = aux2[(aux2[mag_splus] > i) & (aux2[mag_splus] <= i+0.5)].query(mag_sdss+'< 90 and '+mag_sdss+\"> -90 and \"+mag_splus+\" <90\")\n",
    "        filtered_data = sigma_clip(\n",
    "            aux[mag_sdss]-aux[mag_splus], sigma=sigma_value, maxiters=5, stdfunc=mad_std, return_bounds=True)\n",
    "        if len(filtered_data) != 0:\n",
    "            final_data = pd.concat(\n",
    "                [final_data, aux[filtered_data[0].mask == False]], axis=0)\n",
    "\n",
    "    return final_data"
   ]
  },
  {
   "cell_type": "code",
   "execution_count": 4,
   "metadata": {},
   "outputs": [
    {
     "name": "stderr",
     "output_type": "stream",
     "text": [
      "WARNING: VerifyWarning: It is strongly recommended that column names contain only upper and lower-case ASCII letters, digits, or underscores for maximum compatibility with other software (got '#SDSS_NAME'). [astropy.io.fits.column]\n",
      "WARNING: VerifyWarning: It is strongly recommended that column names contain only upper and lower-case ASCII letters, digits, or underscores for maximum compatibility with other software (got '#SpecObjid'). [astropy.io.fits.column]\n"
     ]
    }
   ],
   "source": [
    "QSO = Table.read(\"QSO_S82_iDR4.fits\", format='fits')\n",
    "QSO = QSO.to_pandas().assign(target=0).rename(columns={\"r\":\"modelmag_r\"})\n",
    "\n",
    "STAR = Table.read(\"STAR_S82_iDR4.fits\", format='fits')\n",
    "STAR = STAR.to_pandas().assign(target=1)\n",
    "\n",
    "GAL = Table.read(\"GALAXY_S82_iDR4.fits\", format='fits')\n",
    "GAL = GAL.to_pandas().assign(target=2)"
   ]
  },
  {
   "cell_type": "code",
   "execution_count": 45,
   "metadata": {},
   "outputs": [],
   "source": [
    "columns = ['ID','RA_1', 'DEC_1', 'u_iso', 'J0378_iso', 'J0395_iso', 'J0410_iso', 'J0430_iso',\n",
    "       'g_iso', 'J0515_iso', 'r_iso', 'J0660_iso', 'i_iso',\n",
    "       'J0861_iso', 'z_iso', 'target', 'e_r_iso']\n",
    "\n",
    "QSO = QSO[(QSO['SEX_FLAGS_r'] == 0) & (QSO['r_iso']<=22)]\n",
    "STAR = STAR[(STAR['SEX_FLAGS_r'] == 0) & (STAR['r_iso']<=22) & (STAR['r_iso']>13)]\n",
    "GAL = GAL[(GAL['SEX_FLAGS_r'] == 0) & (GAL['r_iso']<=22) & (GAL['zWarning']==0)]\n",
    "\n",
    "total = pd.concat([QSO,STAR,GAL])\n",
    "total = apply_sigma_clip(total, 'r_iso', 'modelmag_r',)\n",
    "#total = total[columns].reset_index()"
   ]
  },
  {
   "cell_type": "code",
   "execution_count": 48,
   "metadata": {},
   "outputs": [],
   "source": [
    "\n",
    "i=0\n",
    "f = 9000\n",
    "tam = len(total)\n",
    "flag = True\n",
    "while(flag):\n",
    "    total[['RA_1', 'DEC_1']].iloc[i:f].to_csv(f'to_upload{i}.csv')\n",
    "    i+=9000\n",
    "    f+=9000\n",
    "    if f>tam:\n",
    "        f=tam\n",
    "        flag = False\n",
    "        pd.DataFrame(total.ID.iloc[i:f]).to_csv(f'to_upload{i}.csv')\n"
   ]
  },
  {
   "cell_type": "markdown",
   "metadata": {},
   "source": [
    "SELECT dr4.FWHM, dr4.ID, dr4.ra, dr4.dec FROM TAP_UPLOAD.upload AS tap JOIN idr4_dual.idr4_detection_image as dr4 ON 1 = CONTAINS( POINT('', dr4.ra, dr4.dec), CIRCLE('', tap.ra_1, tap.dec_1, 1e-8) )"
   ]
  },
  {
   "cell_type": "code",
   "execution_count": 44,
   "metadata": {},
   "outputs": [
    {
     "data": {
      "text/plain": [
       "32943    -1.883948\n",
       "55052    -0.314088\n",
       "88693    -0.263103\n",
       "82202     0.000000\n",
       "5954      0.000000\n",
       "           ...    \n",
       "34601    16.441658\n",
       "17728    16.474300\n",
       "88248    17.850145\n",
       "36981    18.247360\n",
       "49343    18.585342\n",
       "Name: FWHM_n, Length: 133196, dtype: float64"
      ]
     },
     "execution_count": 44,
     "metadata": {},
     "output_type": "execute_result"
    }
   ],
   "source": [
    "total.FWHM_n.sort_values()"
   ]
  },
  {
   "cell_type": "markdown",
   "metadata": {},
   "source": [
    "## Análise da Distribuição de magnitude"
   ]
  },
  {
   "cell_type": "code",
   "execution_count": 65,
   "metadata": {},
   "outputs": [
    {
     "data": {
      "text/plain": [
       "<matplotlib.axes._subplots.AxesSubplot at 0x7fe571397c40>"
      ]
     },
     "execution_count": 65,
     "metadata": {},
     "output_type": "execute_result"
    },
    {
     "data": {
      "image/png": "[encoded data removed]",
      "text/plain": [
       "<Figure size 432x288 with 1 Axes>"
      ]
     },
     "metadata": {
      "needs_background": "light"
     },
     "output_type": "display_data"
    }
   ],
   "source": [
    "plt.title(\"mag_r <22\")\n",
    "total.r_iso.hist(bins=15)"
   ]
  },
  {
   "cell_type": "code",
   "execution_count": 63,
   "metadata": {},
   "outputs": [
    {
     "name": "stdout",
     "output_type": "stream",
     "text": [
      "54650 objetos foram eliminados\n"
     ]
    }
   ],
   "source": [
    "teste = total[total.e_r_iso <0.05]\n",
    "print(f\"{len(total)-len(teste)} objetos foram eliminados\")"
   ]
  },
  {
   "cell_type": "code",
   "execution_count": 66,
   "metadata": {},
   "outputs": [
    {
     "data": {
      "text/plain": [
       "<matplotlib.axes._subplots.AxesSubplot at 0x7fe5713346a0>"
      ]
     },
     "execution_count": 66,
     "metadata": {},
     "output_type": "execute_result"
    },
    {
     "data": {
      "image/png": "[encoded data removed]",
      "text/plain": [
       "<Figure size 432x288 with 1 Axes>"
      ]
     },
     "metadata": {
      "needs_background": "light"
     },
     "output_type": "display_data"
    }
   ],
   "source": [
    "plt.title(\"mag_r <22 e e_mag_r <0.05\")\n",
    "teste.r_iso.hist(bins=15)"
   ]
  }
 ],
 "metadata": {
  "kernelspec": {
   "display_name": "Python 3 (ipykernel)",
   "language": "python",
   "name": "python3"
  },
  "language_info": {
   "codemirror_mode": {
    "name": "ipython",
    "version": 3
   },
   "file_extension": ".py",
   "mimetype": "text/x-python",
   "name": "python",
   "nbconvert_exporter": "python",
   "pygments_lexer": "ipython3",
   "version": "3.9.7"
  },
  "vscode": {
   "interpreter": {
    "hash": "cb22f516c9dbd103206a5f1b8c3011b228f1ef9007f783aade126d2be20f1f6e"
   }
  }
 },
 "nbformat": 4,
 "nbformat_minor": 2
}
