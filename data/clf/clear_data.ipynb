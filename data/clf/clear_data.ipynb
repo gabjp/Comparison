{
 "cells": [
  {
   "cell_type": "markdown",
   "metadata": {},
   "source": [
    "# Explicação\n",
    "Nesse arquivo há:\n",
    "- Limpeza de dados usados para a classificação.\n",
    "- Uma breve análise desses dados."
   ]
  },
  {
   "cell_type": "code",
   "execution_count": 1,
   "metadata": {},
   "outputs": [],
   "source": [
    "from astropy.stats import sigma_clip, mad_std\n",
    "from astropy.table import Table\n",
    "import pandas as pd\n",
    "import numpy as np\n",
    "import matplotlib.pyplot as plt"
   ]
  },
  {
   "cell_type": "code",
   "execution_count": 2,
   "metadata": {},
   "outputs": [],
   "source": [
    "# From: https://github.com/marixko/MNRAS_nakazono_2021\n",
    "\n",
    "def apply_sigma_clip(data, mag_splus, mag_sdss, sigma_value=4):\n",
    "    '''\n",
    "    Apply n-sigma clipping on the S-PLUS and SDSS magnitude difference per \n",
    "    magnitude (from S-PLUS) bin of size 0.5 \n",
    "    \n",
    "    Keywords arguments:\n",
    "    data -- full dataset\n",
    "    mag_splus -- magnitude from S-PLUS\n",
    "    mag_sdss -- magnitude from SDSS\n",
    "    sigma_value -- value of n (default: 4)\n",
    "    create_plot -- determine if plot of mag_sdss - mag_splus x mag_splus is created\n",
    "    \n",
    "    returns a subset from data that pass through n-sigma clipping\n",
    "    '''\n",
    "    aux2 = data\n",
    "    final_data = pd.DataFrame([])\n",
    "    for i in np.arange(np.floor(np.min(data.query(mag_splus+'!=99 and '+mag_splus+'!=-99')[mag_splus])), np.ceil(np.max(data.query(mag_splus+'!=99 and '+mag_splus+'!=-99')[mag_splus])), 0.5):\n",
    "        aux = aux2[(aux2[mag_splus] > i) & (aux2[mag_splus] <= i+0.5)].query(mag_sdss+'< 90 and '+mag_sdss+\"> -90 and \"+mag_splus+\" <90\")\n",
    "        filtered_data = sigma_clip(\n",
    "            aux[mag_sdss]-aux[mag_splus], sigma=sigma_value, maxiters=5, stdfunc=mad_std, return_bounds=True)\n",
    "        if len(filtered_data) != 0:\n",
    "            final_data = pd.concat(\n",
    "                [final_data, aux[filtered_data[0].mask == False]], axis=0)\n",
    "\n",
    "    return final_data"
   ]
  },
  {
   "cell_type": "code",
   "execution_count": 3,
   "metadata": {},
   "outputs": [
    {
     "name": "stderr",
     "output_type": "stream",
     "text": [
      "WARNING: VerifyWarning: It is strongly recommended that column names contain only upper and lower-case ASCII letters, digits, or underscores for maximum compatibility with other software (got '#SDSS_NAME'). [astropy.io.fits.column]\n",
      "WARNING: VerifyWarning: It is strongly recommended that column names contain only upper and lower-case ASCII letters, digits, or underscores for maximum compatibility with other software (got '#SpecObjid'). [astropy.io.fits.column]\n"
     ]
    }
   ],
   "source": [
    "QSO = Table.read(\"raw_tables/QSO_S82_iDR4.fits\", format='fits')\n",
    "QSO = QSO.to_pandas().assign(target=0).rename(columns={\"r\":\"modelmag_r\"})\n",
    "\n",
    "STAR = Table.read(\"raw_tables/STAR_S82_iDR4.fits\", format='fits')\n",
    "STAR = STAR.to_pandas().assign(target=1)\n",
    "\n",
    "GAL = Table.read(\"raw_tables/GALAXY_S82_iDR4.fits\", format='fits')\n",
    "GAL = GAL.to_pandas().assign(target=2)"
   ]
  },
  {
   "cell_type": "code",
   "execution_count": 4,
   "metadata": {},
   "outputs": [],
   "source": [
    "columns = ['ID', 'A', 'B', 'KRON_RADIUS','RA_1', 'DEC_1', 'u_iso', 'J0378_iso', 'J0395_iso', 'J0410_iso', 'J0430_iso',\n",
    "       'g_iso', 'J0515_iso', 'r_iso', 'J0660_iso', 'i_iso',\n",
    "       'J0861_iso', 'z_iso', 'target', 'e_r_iso', 'FWHM_n', 'w1mpro', 'w2mpro'] \n",
    "\n",
    "QSO = QSO[(QSO['SEX_FLAGS_r'] == 0) & (QSO['r_iso']<=22)]\n",
    "STAR = STAR[(STAR['SEX_FLAGS_r'] == 0) & (STAR['r_iso']<=22) & (STAR['r_iso']>13)]\n",
    "GAL = GAL[(GAL['SEX_FLAGS_r'] == 0) & (GAL['r_iso']<=22) & (GAL['zWarning']==0)]\n",
    "\n",
    "total = pd.concat([QSO,STAR,GAL])\n",
    "total = apply_sigma_clip(total, 'r_iso', 'modelmag_r',)\n",
    "total = total[columns].reset_index().drop(columns='index')"
   ]
  },
  {
   "cell_type": "markdown",
   "metadata": {},
   "source": [
    "### Observação:\n",
    "Aqui, eu utilizo as magnitudes do wise para obter a mesma divisão treino/testo do classificador atual do DR4.\n",
    "O processo utilizado antes foi o seguinte:\n",
    " - Separar os dados em dois conjuntos disjuntos: os que possuem observação no WISE e os que não possuem.\n",
    " - Para cada conjunto, separar treino/teste com 25% para teste.\n",
    " - Unir, novamente, os conjuntos.\n",
    "\n",
    "Como eu não tenho nenhuma garantia (e, por uma observação feita enquanto reproduzia o artigo da Lilianne, tenho conviccção de que não) de que $split(a) + split(b) = split(a+b)$, vou usar as colunas do WISE para fazer o mesmo processo. Embora o WISE não possua significado nesse contexto, farei isso apenas para assegurar a mesma divisão."
   ]
  },
  {
   "cell_type": "code",
   "execution_count": 5,
   "metadata": {},
   "outputs": [],
   "source": [
    "from sklearn.model_selection import train_test_split\n",
    "\n",
    "with_wise = total[~total[\"w1mpro\"].isna() & ~total[\"w2mpro\"].isna()] \n",
    "\n",
    "target = with_wise[\"target\"]\n",
    "X_train_wise, X_test_wise, y_train_wise, y_test_wise = train_test_split(with_wise, target,test_size=0.25,random_state=2,stratify=target)"
   ]
  },
  {
   "cell_type": "code",
   "execution_count": 6,
   "metadata": {},
   "outputs": [],
   "source": [
    "no_wise =  total.merge(with_wise, how='left', indicator=True)\n",
    "no_wise = no_wise[no_wise['_merge'] == 'left_only']\n",
    "target = no_wise[\"target\"]\n",
    "X_train_no_wise, X_test_no_wise, y_train_no_wise, y_test_no_wise = train_test_split(no_wise, target,test_size=0.25,random_state=2,stratify=target)"
   ]
  },
  {
   "cell_type": "code",
   "execution_count": 7,
   "metadata": {},
   "outputs": [],
   "source": [
    "X_train_total = pd.concat([X_train_wise,X_train_no_wise]).assign(test=0)\n",
    "X_test_total = pd.concat([X_test_wise, X_test_no_wise]).assign(test=1, train=0, validation=0, split=\"test\")"
   ]
  },
  {
   "cell_type": "markdown",
   "metadata": {},
   "source": [
    "### Observações: \n",
    "Agora, temos a seguinte propriedade: \\\n",
    "Para um objeto $o$, se $o['test'] = 1$, então $o$ estava no conjunto de testes do modelo treinado para o DR4. A recíproca também vale.\n",
    "\n",
    "\n",
    "Agora, irei definir um conjunto de validação. Esse conjunto não está relacionado com o modelo treinado para o DR4, então não precisarei utilizar as informações do WISE. O conjunto de validação pegará 20% de X_train_total (que possui 75% de todos os dados). \\\n",
    "\\\n",
    "Logo, o split será:\n",
    " - Treino: 60%\n",
    " - Validação: 15%\n",
    " - Teste: 25%\n",
    "\n",
    "Esse split é apenas inicial e pode mudar no futuro.\n",
    "\n"
   ]
  },
  {
   "cell_type": "code",
   "execution_count": 8,
   "metadata": {},
   "outputs": [],
   "source": [
    "target = X_train_total[\"target\"]\n",
    "X_train, X_val, y_train, y_val = train_test_split(X_train_total, target,test_size=0.20,random_state=2,stratify=target)"
   ]
  },
  {
   "cell_type": "code",
   "execution_count": 9,
   "metadata": {},
   "outputs": [],
   "source": [
    "X_train = X_train.assign( train=1, validation=0, split=\"train\")\n",
    "X_val = X_val.assign(train=0, validation=1, split=\"val\")"
   ]
  },
  {
   "cell_type": "code",
   "execution_count": 10,
   "metadata": {},
   "outputs": [],
   "source": [
    "final = pd.concat([X_train, X_val, X_test_total]).drop(columns=\"_merge\")"
   ]
  },
  {
   "cell_type": "code",
   "execution_count": 11,
   "metadata": {},
   "outputs": [],
   "source": [
    "final['ID'] = final['ID'].str.decode('utf-8').str[2:30] \n",
    "final = final.drop_duplicates(subset=\"ID\") # Retira uma versão de objetos com classificação multipla\n",
    "final = final[(final.ID != 'iDR4_3_STRIPE82-0066_0044492')\n",
    "             &(final.ID != 'iDR4_3_STRIPE82-0046_0029265')]# Retira dois objetos que (por algum motivo) não estão sendo baixados."
   ]
  },
  {
   "cell_type": "markdown",
   "metadata": {},
   "source": [
    "### Split 90/5/5"
   ]
  },
  {
   "cell_type": "code",
   "execution_count": 13,
   "metadata": {},
   "outputs": [],
   "source": [
    "from sklearn.model_selection import train_test_split\n",
    "target = total[\"target\"]\n",
    "train, test = train_test_split(total, test_size=0.1,random_state=2, stratify=target)\n",
    "target = test[\"target\"]\n",
    "test, val = train_test_split(test, test_size=0.5,random_state=2, stratify=target)\n",
    "train = train.assign(split=\"train\", train=1, test=0, validation=0)\n",
    "test = test.assign(split=\"test\", train=0, test=1, validation=0)\n",
    "val = val.assign(split=\"val\", train=0, test=0, validation=1)\n",
    "final = pd.concat([train,test,val]) "
   ]
  },
  {
   "cell_type": "markdown",
   "metadata": {},
   "source": [
    "## Visualizações:"
   ]
  },
  {
   "cell_type": "code",
   "execution_count": 14,
   "metadata": {},
   "outputs": [
    {
     "data": {
      "image/png": "[encoded data removed]",
      "text/plain": [
       "<Figure size 1080x504 with 3 Axes>"
      ]
     },
     "metadata": {
      "needs_background": "light"
     },
     "output_type": "display_data"
    }
   ],
   "source": [
    "# Adaptado de https://github.com/marixko/MNRAS_nakazono_2021/blob/main/Nakazono_et_al_2021.ipynb\n",
    "\n",
    "blue = (0, 0.48, 0.70)\n",
    "orange = (230/255,159/255, 0)\n",
    "yellow = (0.94, 0.89, 0.26)\n",
    "pink = (0.8, 0.47, 0.65)\n",
    "\n",
    "plt.rcParams.update({'font.size': 18})\n",
    "fig, ax = plt.subplots(1,3, figsize=(15,7))\n",
    "\n",
    "bins = np.arange(12,22.1,1)\n",
    "log = True\n",
    "density = False\n",
    "ax[0].hist(final[(final.target==0) & (final.train==1)].r_iso, histtype=\"step\", linewidth=3, linestyle=\"dotted\", bins=bins,\n",
    "             color=pink, log=log, density=density, label=\"Train\", zorder=3)\n",
    "ax[0].hist(final[(final.target==0) & (final.validation==1)].r_iso, bins=bins, color=pink, log=log, density=density, label=\"Validation\", zorder=3)\n",
    "ax[0].hist(final[(final.target==0) & (final.test==1)].r_iso, histtype=\"step\", linewidth=3, linestyle=\"dashed\", bins=bins,\n",
    "             color=pink, log=log, density=density, label=\"Test\", zorder=3)\n",
    "\n",
    "ax[1].hist(final[(final.target==1) & (final.train==1)].r_iso, histtype=\"step\", linewidth=3, linestyle=\"dotted\", bins=bins,\n",
    "             color=blue, log=log, density=density, label=\"Train\", zorder=3)\n",
    "ax[1].hist(final[(final.target==1) & (final.validation==1)].r_iso, bins=bins, color=blue, log=log, density=density, label=\"Validation\", zorder=3)\n",
    "ax[1].hist(final[(final.target==1) & (final.test==1)].r_iso, histtype=\"step\", linewidth=3, linestyle=\"dashed\", bins=bins,\n",
    "             color=blue, log=log, density=density, label=\"Test\", zorder=3)\n",
    "\n",
    "\n",
    "ax[2].hist(final[(final.target==2) & (final.train==1)].r_iso, histtype=\"step\", linewidth=3, linestyle=\"dotted\", bins=bins,\n",
    "             color=yellow, log=log, density=density, label=\"Train\", zorder=3)\n",
    "ax[2].hist(final[(final.target==2)& (final.validation==1)].r_iso, bins=bins, color=yellow, log=log, density=density, label=\"Validation\", zorder=3)\n",
    "ax[2].hist(final[(final.target==2) & (final.test==1)].r_iso, histtype=\"step\", linewidth=3, linestyle=\"dashed\", bins=bins,\n",
    "             color=yellow, log=log, density=density, label=\"Test\", zorder=3)\n",
    "\n",
    "\n",
    "\n",
    "for j in [0,1,2]:\n",
    "    if j == 0:\n",
    "        title=\"QSO\"\n",
    "    elif j == 1:\n",
    "        title=\"STAR\"\n",
    "    else:\n",
    "        title =\"GALAXY\"\n",
    "    \n",
    "    ax[j].minorticks_on()\n",
    "    ax[j].grid(zorder=0)\n",
    "    ax[j].set_xticks(np.arange(12,22.1,2))\n",
    "    ax[j].legend(loc=\"upper left\", title=title, prop={'size': 15}, title_fontsize=18)\n",
    "        \n",
    "plt.setp(ax, xlim=(12,22), ylim=(0.1,1000000) ,xlabel='r', ylabel = \"Frequency\")\n",
    "plt.tight_layout()"
   ]
  },
  {
   "cell_type": "code",
   "execution_count": 13,
   "metadata": {},
   "outputs": [
    {
     "name": "stdout",
     "output_type": "stream",
     "text": [
      "Existem 7 objetos com magnitude <= 14\n",
      "Existem 291 objetos com magnitude 14<r<=15 (0.21858169772629968%)\n",
      "Existem 3308 objetos com magnitude 15<r<=16 (2.4847706394453586%)\n",
      "Existem 7327 objetos com magnitude 16<r<=17 (5.503601715603428%)\n",
      "Existem 14803 objetos com magnitude 17<r<=18 (11.119123269561559%)\n",
      "Existem 24564 objetos com magnitude 18<r<=19 (18.450999391576715%)\n",
      "Existem 33546 objetos com magnitude 19<r<=20 (25.197737566757556%)\n",
      "Existem 27330 objetos com magnitude 20<r<=21 (20.52865222975866%)\n",
      "Existem 21955 objetos com magnitude 21<r<=22 (16.491275510587318%)\n"
     ]
    }
   ],
   "source": [
    "print(f\"Existem {len(final[final.r_iso<=14])} objetos com magnitude <= 14\")\n",
    "for i in range(15,23):\n",
    "    x = len(final[(final.r_iso>i-1)&(final.r_iso<=i)])\n",
    "    print(f\"Existem {x} objetos com magnitude {i-1}<r<={i} ({x/len(final)*100}%)\")"
   ]
  },
  {
   "cell_type": "markdown",
   "metadata": {},
   "source": [
    "## Análise da Distribuição de magnitude"
   ]
  },
  {
   "cell_type": "code",
   "execution_count": 10,
   "metadata": {},
   "outputs": [
    {
     "data": {
      "text/plain": [
       "<matplotlib.axes._subplots.AxesSubplot at 0x7fce8fc5cee0>"
      ]
     },
     "execution_count": 10,
     "metadata": {},
     "output_type": "execute_result"
    },
    {
     "data": {
      "image/png": "[encoded data removed]",
      "text/plain": [
       "<Figure size 432x288 with 1 Axes>"
      ]
     },
     "metadata": {
      "needs_background": "light"
     },
     "output_type": "display_data"
    }
   ],
   "source": [
    "plt.title(\"mag_r <22\")\n",
    "total.r_iso.hist(bins=15)"
   ]
  },
  {
   "cell_type": "code",
   "execution_count": 16,
   "metadata": {},
   "outputs": [
    {
     "name": "stdout",
     "output_type": "stream",
     "text": [
      "54650 objetos foram eliminados\n"
     ]
    }
   ],
   "source": [
    "teste = total[total.e_r_iso <0.05]\n",
    "print(f\"{len(total)-len(teste)} objetos foram eliminados\")"
   ]
  },
  {
   "cell_type": "code",
   "execution_count": 17,
   "metadata": {},
   "outputs": [
    {
     "data": {
      "text/plain": [
       "<matplotlib.axes._subplots.AxesSubplot at 0x7f09d931aca0>"
      ]
     },
     "execution_count": 17,
     "metadata": {},
     "output_type": "execute_result"
    },
    {
     "data": {
      "image/png": "[encoded data removed]",
      "text/plain": [
       "<Figure size 432x288 with 1 Axes>"
      ]
     },
     "metadata": {
      "needs_background": "light"
     },
     "output_type": "display_data"
    }
   ],
   "source": [
    "plt.title(\"mag_r <22 e e_mag_r <0.05\")\n",
    "teste.r_iso.hist(bins=15)"
   ]
  },
  {
   "cell_type": "markdown",
   "metadata": {},
   "source": [
    "# Salvando em csv"
   ]
  },
  {
   "cell_type": "code",
   "execution_count": 24,
   "metadata": {},
   "outputs": [],
   "source": [
    "final['ID'] = final['ID'].str.decode('utf-8').str[2:30] \n",
    "final = final.drop_duplicates(subset=\"ID\")"
   ]
  },
  {
   "cell_type": "code",
   "execution_count": 25,
   "metadata": {},
   "outputs": [],
   "source": [
    "final.reset_index().drop(columns='index').to_csv(\"clf_90_5_5.csv\")"
   ]
  },
  {
   "cell_type": "code",
   "execution_count": 22,
   "metadata": {},
   "outputs": [
    {
     "data": {
      "text/plain": [
       "36"
      ]
     },
     "execution_count": 22,
     "metadata": {},
     "output_type": "execute_result"
    }
   ],
   "source": [
    "temp = final[[\"FWHM_n\",\"target\"]]\n",
    "len(temp[temp.FWHM_n > 32/3])"
   ]
  },
  {
   "cell_type": "code",
   "execution_count": 23,
   "metadata": {},
   "outputs": [
    {
     "data": {
      "text/html": [
       "<div>\n",
       "<style scoped>\n",
       "    .dataframe tbody tr th:only-of-type {\n",
       "        vertical-align: middle;\n",
       "    }\n",
       "\n",
       "    .dataframe tbody tr th {\n",
       "        vertical-align: top;\n",
       "    }\n",
       "\n",
       "    .dataframe thead th {\n",
       "        text-align: right;\n",
       "    }\n",
       "</style>\n",
       "<table border=\"1\" class=\"dataframe\">\n",
       "  <thead>\n",
       "    <tr style=\"text-align: right;\">\n",
       "      <th></th>\n",
       "      <th>ID</th>\n",
       "      <th>A</th>\n",
       "      <th>B</th>\n",
       "      <th>KRON_RADIUS</th>\n",
       "      <th>RA_1</th>\n",
       "      <th>DEC_1</th>\n",
       "      <th>u_iso</th>\n",
       "      <th>J0378_iso</th>\n",
       "      <th>J0395_iso</th>\n",
       "      <th>J0410_iso</th>\n",
       "      <th>...</th>\n",
       "      <th>z_iso</th>\n",
       "      <th>target</th>\n",
       "      <th>e_r_iso</th>\n",
       "      <th>FWHM_n</th>\n",
       "      <th>w1mpro</th>\n",
       "      <th>w2mpro</th>\n",
       "      <th>split</th>\n",
       "      <th>train</th>\n",
       "      <th>test</th>\n",
       "      <th>validation</th>\n",
       "    </tr>\n",
       "  </thead>\n",
       "  <tbody>\n",
       "    <tr>\n",
       "      <th>130773</th>\n",
       "      <td>b\"b'iDR4_3_STRIPE82-0045_0028140              ...</td>\n",
       "      <td>0.000234</td>\n",
       "      <td>0.000135</td>\n",
       "      <td>7.728666</td>\n",
       "      <td>31.504410</td>\n",
       "      <td>-0.592362</td>\n",
       "      <td>99.000000</td>\n",
       "      <td>99.000000</td>\n",
       "      <td>22.384966</td>\n",
       "      <td>99.000000</td>\n",
       "      <td>...</td>\n",
       "      <td>20.564034</td>\n",
       "      <td>2</td>\n",
       "      <td>0.207219</td>\n",
       "      <td>2.342879</td>\n",
       "      <td>15.868</td>\n",
       "      <td>15.580000</td>\n",
       "      <td>train</td>\n",
       "      <td>1</td>\n",
       "      <td>0</td>\n",
       "      <td>0</td>\n",
       "    </tr>\n",
       "    <tr>\n",
       "      <th>62960</th>\n",
       "      <td>b\"b'iDR4_3_STRIPE82-0071_0006887              ...</td>\n",
       "      <td>0.000391</td>\n",
       "      <td>0.000330</td>\n",
       "      <td>3.916353</td>\n",
       "      <td>49.251016</td>\n",
       "      <td>-1.154209</td>\n",
       "      <td>21.839247</td>\n",
       "      <td>20.898956</td>\n",
       "      <td>20.978590</td>\n",
       "      <td>20.807573</td>\n",
       "      <td>...</td>\n",
       "      <td>18.409325</td>\n",
       "      <td>2</td>\n",
       "      <td>0.032939</td>\n",
       "      <td>1.435171</td>\n",
       "      <td>15.474</td>\n",
       "      <td>15.260000</td>\n",
       "      <td>train</td>\n",
       "      <td>1</td>\n",
       "      <td>0</td>\n",
       "      <td>0</td>\n",
       "    </tr>\n",
       "    <tr>\n",
       "      <th>118694</th>\n",
       "      <td>b\"b'iDR4_3_STRIPE82-0031_0038437              ...</td>\n",
       "      <td>0.000215</td>\n",
       "      <td>0.000193</td>\n",
       "      <td>3.367306</td>\n",
       "      <td>21.741788</td>\n",
       "      <td>-0.320973</td>\n",
       "      <td>24.524836</td>\n",
       "      <td>23.539324</td>\n",
       "      <td>22.547157</td>\n",
       "      <td>22.943121</td>\n",
       "      <td>...</td>\n",
       "      <td>20.031553</td>\n",
       "      <td>2</td>\n",
       "      <td>0.099001</td>\n",
       "      <td>1.987406</td>\n",
       "      <td>15.734</td>\n",
       "      <td>15.640000</td>\n",
       "      <td>train</td>\n",
       "      <td>1</td>\n",
       "      <td>0</td>\n",
       "      <td>0</td>\n",
       "    </tr>\n",
       "    <tr>\n",
       "      <th>18589</th>\n",
       "      <td>b\"b'iDR4_3_STRIPE82-0032_0002325              ...</td>\n",
       "      <td>0.000293</td>\n",
       "      <td>0.000249</td>\n",
       "      <td>3.886473</td>\n",
       "      <td>21.734358</td>\n",
       "      <td>0.072648</td>\n",
       "      <td>19.509678</td>\n",
       "      <td>19.002240</td>\n",
       "      <td>19.190517</td>\n",
       "      <td>18.818336</td>\n",
       "      <td>...</td>\n",
       "      <td>17.675484</td>\n",
       "      <td>1</td>\n",
       "      <td>0.013031</td>\n",
       "      <td>1.166702</td>\n",
       "      <td>16.344</td>\n",
       "      <td>16.239000</td>\n",
       "      <td>train</td>\n",
       "      <td>1</td>\n",
       "      <td>0</td>\n",
       "      <td>0</td>\n",
       "    </tr>\n",
       "    <tr>\n",
       "      <th>29959</th>\n",
       "      <td>b\"b'iDR4_3_STRIPE82-0102_0075218              ...</td>\n",
       "      <td>0.000234</td>\n",
       "      <td>0.000222</td>\n",
       "      <td>3.402106</td>\n",
       "      <td>310.250739</td>\n",
       "      <td>1.012908</td>\n",
       "      <td>22.309560</td>\n",
       "      <td>23.268545</td>\n",
       "      <td>23.008677</td>\n",
       "      <td>21.161547</td>\n",
       "      <td>...</td>\n",
       "      <td>17.264418</td>\n",
       "      <td>1</td>\n",
       "      <td>0.015666</td>\n",
       "      <td>1.062590</td>\n",
       "      <td>15.009</td>\n",
       "      <td>14.974000</td>\n",
       "      <td>train</td>\n",
       "      <td>1</td>\n",
       "      <td>0</td>\n",
       "      <td>0</td>\n",
       "    </tr>\n",
       "    <tr>\n",
       "      <th>...</th>\n",
       "      <td>...</td>\n",
       "      <td>...</td>\n",
       "      <td>...</td>\n",
       "      <td>...</td>\n",
       "      <td>...</td>\n",
       "      <td>...</td>\n",
       "      <td>...</td>\n",
       "      <td>...</td>\n",
       "      <td>...</td>\n",
       "      <td>...</td>\n",
       "      <td>...</td>\n",
       "      <td>...</td>\n",
       "      <td>...</td>\n",
       "      <td>...</td>\n",
       "      <td>...</td>\n",
       "      <td>...</td>\n",
       "      <td>...</td>\n",
       "      <td>...</td>\n",
       "      <td>...</td>\n",
       "      <td>...</td>\n",
       "      <td>...</td>\n",
       "    </tr>\n",
       "    <tr>\n",
       "      <th>11596</th>\n",
       "      <td>b\"b'iDR4_3_STRIPE82-0015_0038006              ...</td>\n",
       "      <td>0.000293</td>\n",
       "      <td>0.000282</td>\n",
       "      <td>3.369621</td>\n",
       "      <td>9.362603</td>\n",
       "      <td>-0.203612</td>\n",
       "      <td>99.000000</td>\n",
       "      <td>99.000000</td>\n",
       "      <td>21.437769</td>\n",
       "      <td>20.420168</td>\n",
       "      <td>...</td>\n",
       "      <td>15.986316</td>\n",
       "      <td>1</td>\n",
       "      <td>0.010527</td>\n",
       "      <td>0.973784</td>\n",
       "      <td>13.654</td>\n",
       "      <td>13.631000</td>\n",
       "      <td>val</td>\n",
       "      <td>0</td>\n",
       "      <td>0</td>\n",
       "      <td>1</td>\n",
       "    </tr>\n",
       "    <tr>\n",
       "      <th>109301</th>\n",
       "      <td>b\"b'iDR4_3_STRIPE82-0136_0024875              ...</td>\n",
       "      <td>0.000305</td>\n",
       "      <td>0.000215</td>\n",
       "      <td>7.442614</td>\n",
       "      <td>334.860274</td>\n",
       "      <td>0.836840</td>\n",
       "      <td>24.265427</td>\n",
       "      <td>22.475416</td>\n",
       "      <td>99.000000</td>\n",
       "      <td>99.000000</td>\n",
       "      <td>...</td>\n",
       "      <td>19.753742</td>\n",
       "      <td>2</td>\n",
       "      <td>0.150365</td>\n",
       "      <td>2.048166</td>\n",
       "      <td>15.586</td>\n",
       "      <td>15.491000</td>\n",
       "      <td>val</td>\n",
       "      <td>0</td>\n",
       "      <td>0</td>\n",
       "      <td>1</td>\n",
       "    </tr>\n",
       "    <tr>\n",
       "      <th>38429</th>\n",
       "      <td>b\"b'iDR4_3_STRIPE82-0017_0013223              ...</td>\n",
       "      <td>0.000310</td>\n",
       "      <td>0.000268</td>\n",
       "      <td>4.291334</td>\n",
       "      <td>11.682376</td>\n",
       "      <td>-0.978077</td>\n",
       "      <td>19.887972</td>\n",
       "      <td>19.663002</td>\n",
       "      <td>19.501950</td>\n",
       "      <td>19.379640</td>\n",
       "      <td>...</td>\n",
       "      <td>18.501053</td>\n",
       "      <td>1</td>\n",
       "      <td>0.022259</td>\n",
       "      <td>1.169357</td>\n",
       "      <td>16.851</td>\n",
       "      <td>16.688999</td>\n",
       "      <td>val</td>\n",
       "      <td>0</td>\n",
       "      <td>0</td>\n",
       "      <td>1</td>\n",
       "    </tr>\n",
       "    <tr>\n",
       "      <th>23274</th>\n",
       "      <td>b\"b'iDR4_3_STRIPE82-0036_0010354              ...</td>\n",
       "      <td>0.000716</td>\n",
       "      <td>0.000285</td>\n",
       "      <td>3.407044</td>\n",
       "      <td>24.505350</td>\n",
       "      <td>0.524798</td>\n",
       "      <td>20.071120</td>\n",
       "      <td>19.623894</td>\n",
       "      <td>20.165972</td>\n",
       "      <td>19.046030</td>\n",
       "      <td>...</td>\n",
       "      <td>17.273480</td>\n",
       "      <td>2</td>\n",
       "      <td>0.031537</td>\n",
       "      <td>4.026918</td>\n",
       "      <td>14.474</td>\n",
       "      <td>14.176000</td>\n",
       "      <td>val</td>\n",
       "      <td>0</td>\n",
       "      <td>0</td>\n",
       "      <td>1</td>\n",
       "    </tr>\n",
       "    <tr>\n",
       "      <th>20494</th>\n",
       "      <td>b\"b'iDR4_3_STRIPE82-0108_0005861              ...</td>\n",
       "      <td>0.000295</td>\n",
       "      <td>0.000265</td>\n",
       "      <td>3.647927</td>\n",
       "      <td>315.063709</td>\n",
       "      <td>0.140962</td>\n",
       "      <td>19.700598</td>\n",
       "      <td>19.455038</td>\n",
       "      <td>19.035072</td>\n",
       "      <td>18.793070</td>\n",
       "      <td>...</td>\n",
       "      <td>17.629383</td>\n",
       "      <td>1</td>\n",
       "      <td>0.014341</td>\n",
       "      <td>1.104512</td>\n",
       "      <td>16.216</td>\n",
       "      <td>16.513000</td>\n",
       "      <td>val</td>\n",
       "      <td>0</td>\n",
       "      <td>0</td>\n",
       "      <td>1</td>\n",
       "    </tr>\n",
       "  </tbody>\n",
       "</table>\n",
       "<p>133133 rows × 27 columns</p>\n",
       "</div>"
      ],
      "text/plain": [
       "                                                       ID         A         B  \\\n",
       "130773  b\"b'iDR4_3_STRIPE82-0045_0028140              ...  0.000234  0.000135   \n",
       "62960   b\"b'iDR4_3_STRIPE82-0071_0006887              ...  0.000391  0.000330   \n",
       "118694  b\"b'iDR4_3_STRIPE82-0031_0038437              ...  0.000215  0.000193   \n",
       "18589   b\"b'iDR4_3_STRIPE82-0032_0002325              ...  0.000293  0.000249   \n",
       "29959   b\"b'iDR4_3_STRIPE82-0102_0075218              ...  0.000234  0.000222   \n",
       "...                                                   ...       ...       ...   \n",
       "11596   b\"b'iDR4_3_STRIPE82-0015_0038006              ...  0.000293  0.000282   \n",
       "109301  b\"b'iDR4_3_STRIPE82-0136_0024875              ...  0.000305  0.000215   \n",
       "38429   b\"b'iDR4_3_STRIPE82-0017_0013223              ...  0.000310  0.000268   \n",
       "23274   b\"b'iDR4_3_STRIPE82-0036_0010354              ...  0.000716  0.000285   \n",
       "20494   b\"b'iDR4_3_STRIPE82-0108_0005861              ...  0.000295  0.000265   \n",
       "\n",
       "        KRON_RADIUS        RA_1     DEC_1      u_iso  J0378_iso  J0395_iso  \\\n",
       "130773     7.728666   31.504410 -0.592362  99.000000  99.000000  22.384966   \n",
       "62960      3.916353   49.251016 -1.154209  21.839247  20.898956  20.978590   \n",
       "118694     3.367306   21.741788 -0.320973  24.524836  23.539324  22.547157   \n",
       "18589      3.886473   21.734358  0.072648  19.509678  19.002240  19.190517   \n",
       "29959      3.402106  310.250739  1.012908  22.309560  23.268545  23.008677   \n",
       "...             ...         ...       ...        ...        ...        ...   \n",
       "11596      3.369621    9.362603 -0.203612  99.000000  99.000000  21.437769   \n",
       "109301     7.442614  334.860274  0.836840  24.265427  22.475416  99.000000   \n",
       "38429      4.291334   11.682376 -0.978077  19.887972  19.663002  19.501950   \n",
       "23274      3.407044   24.505350  0.524798  20.071120  19.623894  20.165972   \n",
       "20494      3.647927  315.063709  0.140962  19.700598  19.455038  19.035072   \n",
       "\n",
       "        J0410_iso  ...      z_iso  target   e_r_iso    FWHM_n  w1mpro  \\\n",
       "130773  99.000000  ...  20.564034       2  0.207219  2.342879  15.868   \n",
       "62960   20.807573  ...  18.409325       2  0.032939  1.435171  15.474   \n",
       "118694  22.943121  ...  20.031553       2  0.099001  1.987406  15.734   \n",
       "18589   18.818336  ...  17.675484       1  0.013031  1.166702  16.344   \n",
       "29959   21.161547  ...  17.264418       1  0.015666  1.062590  15.009   \n",
       "...           ...  ...        ...     ...       ...       ...     ...   \n",
       "11596   20.420168  ...  15.986316       1  0.010527  0.973784  13.654   \n",
       "109301  99.000000  ...  19.753742       2  0.150365  2.048166  15.586   \n",
       "38429   19.379640  ...  18.501053       1  0.022259  1.169357  16.851   \n",
       "23274   19.046030  ...  17.273480       2  0.031537  4.026918  14.474   \n",
       "20494   18.793070  ...  17.629383       1  0.014341  1.104512  16.216   \n",
       "\n",
       "           w2mpro  split  train  test  validation  \n",
       "130773  15.580000  train      1     0           0  \n",
       "62960   15.260000  train      1     0           0  \n",
       "118694  15.640000  train      1     0           0  \n",
       "18589   16.239000  train      1     0           0  \n",
       "29959   14.974000  train      1     0           0  \n",
       "...           ...    ...    ...   ...         ...  \n",
       "11596   13.631000    val      0     0           1  \n",
       "109301  15.491000    val      0     0           1  \n",
       "38429   16.688999    val      0     0           1  \n",
       "23274   14.176000    val      0     0           1  \n",
       "20494   16.513000    val      0     0           1  \n",
       "\n",
       "[133133 rows x 27 columns]"
      ]
     },
     "execution_count": 23,
     "metadata": {},
     "output_type": "execute_result"
    }
   ],
   "source": [
    "final"
   ]
  }
 ],
 "metadata": {
  "kernelspec": {
   "display_name": "Python 3 (ipykernel)",
   "language": "python",
   "name": "python3"
  },
  "language_info": {
   "codemirror_mode": {
    "name": "ipython",
    "version": 3
   },
   "file_extension": ".py",
   "mimetype": "text/x-python",
   "name": "python",
   "nbconvert_exporter": "python",
   "pygments_lexer": "ipython3",
   "version": "3.9.7"
  },
  "vscode": {
   "interpreter": {
    "hash": "cb22f516c9dbd103206a5f1b8c3011b228f1ef9007f783aade126d2be20f1f6e"
   }
  }
 },
 "nbformat": 4,
 "nbformat_minor": 2
}
