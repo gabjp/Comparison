{
 "cells": [
  {
   "cell_type": "markdown",
   "metadata": {},
   "source": [
    "# Explicação\n",
    "Nesse arquivo há:\n",
    "- Limpeza de dados usados para a classificação.\n",
    "- Uma breve análise desses dados."
   ]
  },
  {
   "cell_type": "code",
   "execution_count": 2,
   "metadata": {},
   "outputs": [],
   "source": [
    "from astropy.stats import sigma_clip, mad_std\n",
    "from astropy.table import Table\n",
    "import pandas as pd\n",
    "import numpy as np\n",
    "import matplotlib.pyplot as plt"
   ]
  },
  {
   "cell_type": "code",
   "execution_count": 3,
   "metadata": {},
   "outputs": [],
   "source": [
    "# From: https://github.com/marixko/MNRAS_nakazono_2021\n",
    "\n",
    "def apply_sigma_clip(data, mag_splus, mag_sdss, sigma_value=4):\n",
    "    '''\n",
    "    Apply n-sigma clipping on the S-PLUS and SDSS magnitude difference per \n",
    "    magnitude (from S-PLUS) bin of size 0.5 \n",
    "    \n",
    "    Keywords arguments:\n",
    "    data -- full dataset\n",
    "    mag_splus -- magnitude from S-PLUS\n",
    "    mag_sdss -- magnitude from SDSS\n",
    "    sigma_value -- value of n (default: 4)\n",
    "    create_plot -- determine if plot of mag_sdss - mag_splus x mag_splus is created\n",
    "    \n",
    "    returns a subset from data that pass through n-sigma clipping\n",
    "    '''\n",
    "    aux2 = data\n",
    "    final_data = pd.DataFrame([])\n",
    "    for i in np.arange(np.floor(np.min(data.query(mag_splus+'!=99 and '+mag_splus+'!=-99')[mag_splus])), np.ceil(np.max(data.query(mag_splus+'!=99 and '+mag_splus+'!=-99')[mag_splus])), 0.5):\n",
    "        aux = aux2[(aux2[mag_splus] > i) & (aux2[mag_splus] <= i+0.5)].query(mag_sdss+'< 90 and '+mag_sdss+\"> -90 and \"+mag_splus+\" <90\")\n",
    "        filtered_data = sigma_clip(\n",
    "            aux[mag_sdss]-aux[mag_splus], sigma=sigma_value, maxiters=5, stdfunc=mad_std, return_bounds=True)\n",
    "        if len(filtered_data) != 0:\n",
    "            final_data = pd.concat(\n",
    "                [final_data, aux[filtered_data[0].mask == False]], axis=0)\n",
    "\n",
    "    return final_data"
   ]
  },
  {
   "cell_type": "code",
   "execution_count": 4,
   "metadata": {},
   "outputs": [
    {
     "name": "stderr",
     "output_type": "stream",
     "text": [
      "WARNING: VerifyWarning: It is strongly recommended that column names contain only upper and lower-case ASCII letters, digits, or underscores for maximum compatibility with other software (got '#SDSS_NAME'). [astropy.io.fits.column]\n",
      "WARNING: VerifyWarning: It is strongly recommended that column names contain only upper and lower-case ASCII letters, digits, or underscores for maximum compatibility with other software (got '#SpecObjid'). [astropy.io.fits.column]\n"
     ]
    }
   ],
   "source": [
    "QSO = Table.read(\"QSO_S82_iDR4.fits\", format='fits')\n",
    "QSO = QSO.to_pandas().assign(target=0).rename(columns={\"r\":\"modelmag_r\"})\n",
    "\n",
    "STAR = Table.read(\"STAR_S82_iDR4.fits\", format='fits')\n",
    "STAR = STAR.to_pandas().assign(target=1)\n",
    "\n",
    "GAL = Table.read(\"GALAXY_S82_iDR4.fits\", format='fits')\n",
    "GAL = GAL.to_pandas().assign(target=2)"
   ]
  },
  {
   "cell_type": "code",
   "execution_count": 5,
   "metadata": {},
   "outputs": [],
   "source": [
    "columns = ['ID','RA_1', 'DEC_1', 'u_iso', 'J0378_iso', 'J0395_iso', 'J0410_iso', 'J0430_iso',\n",
    "       'g_iso', 'J0515_iso', 'r_iso', 'J0660_iso', 'i_iso',\n",
    "       'J0861_iso', 'z_iso', 'target', 'e_r_iso', 'FWHM_n', 'w1mpro', 'w2mpro'] \n",
    "\n",
    "QSO = QSO[(QSO['SEX_FLAGS_r'] == 0) & (QSO['r_iso']<=22)]\n",
    "STAR = STAR[(STAR['SEX_FLAGS_r'] == 0) & (STAR['r_iso']<=22) & (STAR['r_iso']>13)]\n",
    "GAL = GAL[(GAL['SEX_FLAGS_r'] == 0) & (GAL['r_iso']<=22) & (GAL['zWarning']==0)]\n",
    "\n",
    "total = pd.concat([QSO,STAR,GAL])\n",
    "total = apply_sigma_clip(total, 'r_iso', 'modelmag_r',)\n",
    "total = total[columns].reset_index().drop(columns='index')"
   ]
  },
  {
   "cell_type": "markdown",
   "metadata": {},
   "source": [
    "### Observação:\n",
    "Aqui, eu utilizo as magnitudes do wise para obter a mesma divisão treino/testo do classificador atual do DR4.\n",
    "O processo utilizado antes foi o seguinte:\n",
    " - Separar os dados em dois conjuntos disjuntos: os que possuem observação no WISE e os que não possuem.\n",
    " - Para cada conjunto, separar treino/teste com 25% para teste.\n",
    " - Unir, novamente, os conjuntos.\n",
    "\n",
    "Como eu não tenho nenhuma garantia (e, por uma observação feita enquanto reproduzia o artigo da Lilianne, tenho conviccção de que não) de que $split(a) + split(b) = split(a+b)$, vou usar as colunas do WISE para fazer o mesmo processo. Embora o WISE não possua significado nesse contexto, farei isso apenas para assegurar a mesma divisão."
   ]
  },
  {
   "cell_type": "code",
   "execution_count": 6,
   "metadata": {},
   "outputs": [],
   "source": [
    "from sklearn.model_selection import train_test_split\n",
    "\n",
    "with_wise = total[~total[\"w1mpro\"].isna() & ~total[\"w2mpro\"].isna()] \n",
    "\n",
    "target = with_wise[\"target\"]\n",
    "X_train_wise, X_test_wise, y_train_wise, y_test_wise = train_test_split(with_wise, target,test_size=0.25,random_state=2,stratify=target)"
   ]
  },
  {
   "cell_type": "code",
   "execution_count": 7,
   "metadata": {},
   "outputs": [],
   "source": [
    "no_wise =  total.merge(with_wise, how='left', indicator=True)\n",
    "no_wise = no_wise[no_wise['_merge'] == 'left_only']\n",
    "target = no_wise[\"target\"]\n",
    "X_train_no_wise, X_test_no_wise, y_train_no_wise, y_test_no_wise = train_test_split(no_wise, target,test_size=0.25,random_state=2,stratify=target)"
   ]
  },
  {
   "cell_type": "code",
   "execution_count": 8,
   "metadata": {},
   "outputs": [],
   "source": [
    "X_train_total = pd.concat([X_train_wise,X_train_no_wise]).assign(test=0)\n",
    "X_test_total = pd.concat([X_test_wise, X_test_no_wise]).assign(test=1, train=0, validation=0)"
   ]
  },
  {
   "cell_type": "markdown",
   "metadata": {},
   "source": [
    "### Observações: \n",
    "Agora, temos a seguinte propriedade: \\\n",
    "Para um objeto $o$, se $o['test'] = 1$, então $o$ estava no conjunto de testes do modelo treinado para o DR4. A recíproca também vale.\n",
    "\n",
    "\n",
    "Agora, irei definir um conjunto de validação. Esse conjunto não está relacionado com o modelo treinado para o DR4, então não precisarei utilizar as informações do WISE. O conjunto de validação pegará 20% de X_train_total (que possui 75% de todos os dados). \\\n",
    "\\\n",
    "Logo, o split será:\n",
    " - Treino: 60%\n",
    " - Validação: 15%\n",
    " - Teste: 25%\n",
    "\n",
    "Esse split é apenas inicial e pode mudar no futuro.\n",
    "\n"
   ]
  },
  {
   "cell_type": "code",
   "execution_count": 9,
   "metadata": {},
   "outputs": [],
   "source": [
    "target = X_train_total[\"target\"]\n",
    "X_train, X_val, y_train, y_val = train_test_split(X_train_total, target,test_size=0.20,random_state=2,stratify=target)"
   ]
  },
  {
   "cell_type": "code",
   "execution_count": 10,
   "metadata": {},
   "outputs": [],
   "source": [
    "X_train = X_train.assign( train=1, validation=0)\n",
    "X_val = X_val.assign(train=0, validation=1)"
   ]
  },
  {
   "cell_type": "code",
   "execution_count": 22,
   "metadata": {},
   "outputs": [],
   "source": [
    "final = pd.concat([X_train, X_val, X_test_total]).drop(columns=\"_merge\")"
   ]
  },
  {
   "cell_type": "code",
   "execution_count": 23,
   "metadata": {},
   "outputs": [],
   "source": [
    "final['ID'] = final['ID'].str.decode('utf-8').str[2:30] \n",
    "final = final.drop_duplicates(subset=\"ID\") # Retira uma versão de objetos com classificação multipla\n",
    "final = final[(final.ID != 'iDR4_3_STRIPE82-0066_0044492')\n",
    "             &(final.ID != 'iDR4_3_STRIPE82-0046_0029265')]# Retira dois objetos que (por algum motivo) não estão sendo baixados."
   ]
  },
  {
   "cell_type": "markdown",
   "metadata": {},
   "source": [
    "## Visualizações:"
   ]
  },
  {
   "cell_type": "code",
   "execution_count": 24,
   "metadata": {},
   "outputs": [
    {
     "data": {
      "image/png": "[encoded data removed]",
      "text/plain": [
       "<Figure size 1080x504 with 3 Axes>"
      ]
     },
     "metadata": {
      "needs_background": "light"
     },
     "output_type": "display_data"
    }
   ],
   "source": [
    "# Adaptado de https://github.com/marixko/MNRAS_nakazono_2021/blob/main/Nakazono_et_al_2021.ipynb\n",
    "\n",
    "blue = (0, 0.48, 0.70)\n",
    "orange = (230/255,159/255, 0)\n",
    "yellow = (0.94, 0.89, 0.26)\n",
    "pink = (0.8, 0.47, 0.65)\n",
    "\n",
    "plt.rcParams.update({'font.size': 18})\n",
    "fig, ax = plt.subplots(1,3, figsize=(15,7))\n",
    "\n",
    "bins = np.arange(12,22.1,1)\n",
    "log = True\n",
    "density = False\n",
    "ax[0].hist(final[(final.target==0) & (final.train==1)].r_iso, histtype=\"step\", linewidth=3, linestyle=\"dotted\", bins=bins,\n",
    "             color=pink, log=log, density=density, label=\"Train\", zorder=3)\n",
    "ax[0].hist(final[(final.target==0) & (final.validation==1)].r_iso, bins=bins, color=pink, log=log, density=density, label=\"Validation\", zorder=3)\n",
    "ax[0].hist(final[(final.target==0) & (final.test==1)].r_iso, histtype=\"step\", linewidth=3, linestyle=\"dashed\", bins=bins,\n",
    "             color=pink, log=log, density=density, label=\"Test\", zorder=3)\n",
    "\n",
    "ax[1].hist(final[(final.target==1) & (final.train==1)].r_iso, histtype=\"step\", linewidth=3, linestyle=\"dotted\", bins=bins,\n",
    "             color=blue, log=log, density=density, label=\"Train\", zorder=3)\n",
    "ax[1].hist(final[(final.target==1) & (final.validation==1)].r_iso, bins=bins, color=blue, log=log, density=density, label=\"Validation\", zorder=3)\n",
    "ax[1].hist(final[(final.target==1) & (final.test==1)].r_iso, histtype=\"step\", linewidth=3, linestyle=\"dashed\", bins=bins,\n",
    "             color=blue, log=log, density=density, label=\"Test\", zorder=3)\n",
    "\n",
    "\n",
    "ax[2].hist(final[(final.target==2) & (final.train==1)].r_iso, histtype=\"step\", linewidth=3, linestyle=\"dotted\", bins=bins,\n",
    "             color=yellow, log=log, density=density, label=\"Train\", zorder=3)\n",
    "ax[2].hist(final[(final.target==2)& (final.validation==1)].r_iso, bins=bins, color=yellow, log=log, density=density, label=\"Validation\", zorder=3)\n",
    "ax[2].hist(final[(final.target==2) & (final.test==1)].r_iso, histtype=\"step\", linewidth=3, linestyle=\"dashed\", bins=bins,\n",
    "             color=yellow, log=log, density=density, label=\"Test\", zorder=3)\n",
    "\n",
    "\n",
    "\n",
    "for j in [0,1,2]:\n",
    "    if j == 0:\n",
    "        title=\"QSO\"\n",
    "    elif j == 1:\n",
    "        title=\"STAR\"\n",
    "    else:\n",
    "        title =\"GALAXY\"\n",
    "    \n",
    "    ax[j].minorticks_on()\n",
    "    ax[j].grid(zorder=0)\n",
    "    ax[j].set_xticks(np.arange(12,22.1,2))\n",
    "    ax[j].legend(loc=\"upper left\", title=title, prop={'size': 15}, title_fontsize=18)\n",
    "        \n",
    "plt.setp(ax, xlim=(12,22), ylim=(0.1,1000000) ,xlabel='r', ylabel = \"Frequency\")\n",
    "plt.tight_layout()"
   ]
  },
  {
   "cell_type": "code",
   "execution_count": 25,
   "metadata": {},
   "outputs": [
    {
     "name": "stdout",
     "output_type": "stream",
     "text": [
      "Existem 7 objetos com magnitude <= 14\n",
      "Existem 291 objetos com magnitude 14<r<=15\n",
      "Existem 3308 objetos com magnitude 15<r<=16\n",
      "Existem 7327 objetos com magnitude 16<r<=17\n",
      "Existem 14803 objetos com magnitude 17<r<=18\n",
      "Existem 24564 objetos com magnitude 18<r<=19\n",
      "Existem 33546 objetos com magnitude 19<r<=20\n",
      "Existem 27330 objetos com magnitude 20<r<=21\n",
      "Existem 21955 objetos com magnitude 21<r<=22\n"
     ]
    }
   ],
   "source": [
    "print(f\"Existem {len(final[final.r_iso<=14])} objetos com magnitude <= 14\")\n",
    "for i in range(15,23):\n",
    "    print(f\"Existem {len(final[(final.r_iso>i-1)&(final.r_iso<=i)])} objetos com magnitude {i-1}<r<={i}\")"
   ]
  },
  {
   "cell_type": "markdown",
   "metadata": {},
   "source": [
    "## Análise da Distribuição de magnitude"
   ]
  },
  {
   "cell_type": "code",
   "execution_count": 26,
   "metadata": {},
   "outputs": [
    {
     "data": {
      "text/plain": [
       "<matplotlib.axes._subplots.AxesSubplot at 0x7f195c979400>"
      ]
     },
     "execution_count": 26,
     "metadata": {},
     "output_type": "execute_result"
    },
    {
     "data": {
      "image/png": "[encoded data removed]",
      "text/plain": [
       "<Figure size 432x288 with 1 Axes>"
      ]
     },
     "metadata": {
      "needs_background": "light"
     },
     "output_type": "display_data"
    }
   ],
   "source": [
    "plt.title(\"mag_r <22\")\n",
    "total.r_iso.hist(bins=15)"
   ]
  },
  {
   "cell_type": "code",
   "execution_count": 27,
   "metadata": {},
   "outputs": [
    {
     "name": "stdout",
     "output_type": "stream",
     "text": [
      "54650 objetos foram eliminados\n"
     ]
    }
   ],
   "source": [
    "teste = total[total.e_r_iso <0.05]\n",
    "print(f\"{len(total)-len(teste)} objetos foram eliminados\")"
   ]
  },
  {
   "cell_type": "code",
   "execution_count": 28,
   "metadata": {},
   "outputs": [
    {
     "data": {
      "text/plain": [
       "<matplotlib.axes._subplots.AxesSubplot at 0x7f195c870d60>"
      ]
     },
     "execution_count": 28,
     "metadata": {},
     "output_type": "execute_result"
    },
    {
     "data": {
      "image/png": "[encoded data removed]",
      "text/plain": [
       "<Figure size 432x288 with 1 Axes>"
      ]
     },
     "metadata": {
      "needs_background": "light"
     },
     "output_type": "display_data"
    }
   ],
   "source": [
    "plt.title(\"mag_r <22 e e_mag_r <0.05\")\n",
    "teste.r_iso.hist(bins=15)"
   ]
  },
  {
   "cell_type": "markdown",
   "metadata": {},
   "source": [
    "# Salvando em csv"
   ]
  },
  {
   "cell_type": "code",
   "execution_count": 29,
   "metadata": {},
   "outputs": [],
   "source": [
    "final.reset_index().drop(columns='index').to_csv(\"clf.csv\")"
   ]
  },
  {
   "cell_type": "code",
   "execution_count": 30,
   "metadata": {},
   "outputs": [
    {
     "data": {
      "text/html": [
       "<div>\n",
       "<style scoped>\n",
       "    .dataframe tbody tr th:only-of-type {\n",
       "        vertical-align: middle;\n",
       "    }\n",
       "\n",
       "    .dataframe tbody tr th {\n",
       "        vertical-align: top;\n",
       "    }\n",
       "\n",
       "    .dataframe thead th {\n",
       "        text-align: right;\n",
       "    }\n",
       "</style>\n",
       "<table border=\"1\" class=\"dataframe\">\n",
       "  <thead>\n",
       "    <tr style=\"text-align: right;\">\n",
       "      <th></th>\n",
       "      <th>ID</th>\n",
       "      <th>RA_1</th>\n",
       "      <th>DEC_1</th>\n",
       "      <th>u_iso</th>\n",
       "      <th>J0378_iso</th>\n",
       "      <th>J0395_iso</th>\n",
       "      <th>J0410_iso</th>\n",
       "      <th>J0430_iso</th>\n",
       "      <th>g_iso</th>\n",
       "      <th>J0515_iso</th>\n",
       "      <th>...</th>\n",
       "      <th>J0861_iso</th>\n",
       "      <th>z_iso</th>\n",
       "      <th>target</th>\n",
       "      <th>e_r_iso</th>\n",
       "      <th>FWHM_n</th>\n",
       "      <th>w1mpro</th>\n",
       "      <th>w2mpro</th>\n",
       "      <th>test</th>\n",
       "      <th>train</th>\n",
       "      <th>validation</th>\n",
       "    </tr>\n",
       "  </thead>\n",
       "  <tbody>\n",
       "    <tr>\n",
       "      <th>40573</th>\n",
       "      <td>iDR4_3_STRIPE82-0062_0018609</td>\n",
       "      <td>41.737552</td>\n",
       "      <td>0.709117</td>\n",
       "      <td>22.803257</td>\n",
       "      <td>21.570564</td>\n",
       "      <td>20.394072</td>\n",
       "      <td>22.049292</td>\n",
       "      <td>22.172140</td>\n",
       "      <td>19.920929</td>\n",
       "      <td>20.161518</td>\n",
       "      <td>...</td>\n",
       "      <td>17.356270</td>\n",
       "      <td>17.337421</td>\n",
       "      <td>1</td>\n",
       "      <td>0.023448</td>\n",
       "      <td>1.011161</td>\n",
       "      <td>14.946</td>\n",
       "      <td>14.820</td>\n",
       "      <td>0</td>\n",
       "      <td>1</td>\n",
       "      <td>0</td>\n",
       "    </tr>\n",
       "    <tr>\n",
       "      <th>3976</th>\n",
       "      <td>iDR4_3_STRIPE82-0015_0005352</td>\n",
       "      <td>9.796036</td>\n",
       "      <td>-1.214655</td>\n",
       "      <td>17.553290</td>\n",
       "      <td>17.087702</td>\n",
       "      <td>17.032228</td>\n",
       "      <td>16.685562</td>\n",
       "      <td>16.612263</td>\n",
       "      <td>16.389988</td>\n",
       "      <td>16.269800</td>\n",
       "      <td>...</td>\n",
       "      <td>15.967942</td>\n",
       "      <td>15.990722</td>\n",
       "      <td>1</td>\n",
       "      <td>0.004742</td>\n",
       "      <td>1.005735</td>\n",
       "      <td>14.865</td>\n",
       "      <td>14.821</td>\n",
       "      <td>0</td>\n",
       "      <td>1</td>\n",
       "      <td>0</td>\n",
       "    </tr>\n",
       "    <tr>\n",
       "      <th>53724</th>\n",
       "      <td>iDR4_3_STRIPE82-0033_0036855</td>\n",
       "      <td>23.119002</td>\n",
       "      <td>-0.159082</td>\n",
       "      <td>23.591427</td>\n",
       "      <td>22.685244</td>\n",
       "      <td>20.671950</td>\n",
       "      <td>20.825050</td>\n",
       "      <td>20.590600</td>\n",
       "      <td>20.480804</td>\n",
       "      <td>20.199745</td>\n",
       "      <td>...</td>\n",
       "      <td>18.163343</td>\n",
       "      <td>18.066355</td>\n",
       "      <td>1</td>\n",
       "      <td>0.027075</td>\n",
       "      <td>0.966917</td>\n",
       "      <td>15.743</td>\n",
       "      <td>15.984</td>\n",
       "      <td>0</td>\n",
       "      <td>1</td>\n",
       "      <td>0</td>\n",
       "    </tr>\n",
       "    <tr>\n",
       "      <th>38856</th>\n",
       "      <td>iDR4_3_STRIPE82-0020_0033506</td>\n",
       "      <td>12.821747</td>\n",
       "      <td>0.961903</td>\n",
       "      <td>99.000000</td>\n",
       "      <td>22.702345</td>\n",
       "      <td>99.000000</td>\n",
       "      <td>20.625496</td>\n",
       "      <td>21.230413</td>\n",
       "      <td>20.072119</td>\n",
       "      <td>20.190523</td>\n",
       "      <td>...</td>\n",
       "      <td>17.415493</td>\n",
       "      <td>17.328402</td>\n",
       "      <td>1</td>\n",
       "      <td>0.020592</td>\n",
       "      <td>1.097667</td>\n",
       "      <td>14.975</td>\n",
       "      <td>15.142</td>\n",
       "      <td>0</td>\n",
       "      <td>1</td>\n",
       "      <td>0</td>\n",
       "    </tr>\n",
       "    <tr>\n",
       "      <th>980</th>\n",
       "      <td>iDR4_3_STRIPE82-0109_0077952</td>\n",
       "      <td>316.226422</td>\n",
       "      <td>-0.062439</td>\n",
       "      <td>17.282547</td>\n",
       "      <td>16.964577</td>\n",
       "      <td>16.715021</td>\n",
       "      <td>16.180395</td>\n",
       "      <td>16.062126</td>\n",
       "      <td>15.601593</td>\n",
       "      <td>15.424949</td>\n",
       "      <td>...</td>\n",
       "      <td>14.789743</td>\n",
       "      <td>14.747582</td>\n",
       "      <td>1</td>\n",
       "      <td>0.001591</td>\n",
       "      <td>1.034177</td>\n",
       "      <td>13.365</td>\n",
       "      <td>13.418</td>\n",
       "      <td>0</td>\n",
       "      <td>1</td>\n",
       "      <td>0</td>\n",
       "    </tr>\n",
       "    <tr>\n",
       "      <th>...</th>\n",
       "      <td>...</td>\n",
       "      <td>...</td>\n",
       "      <td>...</td>\n",
       "      <td>...</td>\n",
       "      <td>...</td>\n",
       "      <td>...</td>\n",
       "      <td>...</td>\n",
       "      <td>...</td>\n",
       "      <td>...</td>\n",
       "      <td>...</td>\n",
       "      <td>...</td>\n",
       "      <td>...</td>\n",
       "      <td>...</td>\n",
       "      <td>...</td>\n",
       "      <td>...</td>\n",
       "      <td>...</td>\n",
       "      <td>...</td>\n",
       "      <td>...</td>\n",
       "      <td>...</td>\n",
       "      <td>...</td>\n",
       "      <td>...</td>\n",
       "    </tr>\n",
       "    <tr>\n",
       "      <th>128428</th>\n",
       "      <td>iDR4_3_STRIPE82-0047_0010400</td>\n",
       "      <td>32.786951</td>\n",
       "      <td>-0.958955</td>\n",
       "      <td>22.498566</td>\n",
       "      <td>22.507536</td>\n",
       "      <td>25.487170</td>\n",
       "      <td>23.579075</td>\n",
       "      <td>99.000000</td>\n",
       "      <td>21.969496</td>\n",
       "      <td>22.139929</td>\n",
       "      <td>...</td>\n",
       "      <td>21.570396</td>\n",
       "      <td>21.504948</td>\n",
       "      <td>1</td>\n",
       "      <td>0.208099</td>\n",
       "      <td>2.577389</td>\n",
       "      <td>NaN</td>\n",
       "      <td>NaN</td>\n",
       "      <td>1</td>\n",
       "      <td>0</td>\n",
       "      <td>0</td>\n",
       "    </tr>\n",
       "    <tr>\n",
       "      <th>115669</th>\n",
       "      <td>iDR4_3_STRIPE82-0026_0023742</td>\n",
       "      <td>17.528267</td>\n",
       "      <td>0.607531</td>\n",
       "      <td>23.519619</td>\n",
       "      <td>22.462156</td>\n",
       "      <td>21.948318</td>\n",
       "      <td>22.559492</td>\n",
       "      <td>22.507400</td>\n",
       "      <td>22.022938</td>\n",
       "      <td>21.708664</td>\n",
       "      <td>...</td>\n",
       "      <td>20.602158</td>\n",
       "      <td>21.504713</td>\n",
       "      <td>1</td>\n",
       "      <td>0.089766</td>\n",
       "      <td>1.042697</td>\n",
       "      <td>NaN</td>\n",
       "      <td>NaN</td>\n",
       "      <td>1</td>\n",
       "      <td>0</td>\n",
       "      <td>0</td>\n",
       "    </tr>\n",
       "    <tr>\n",
       "      <th>127151</th>\n",
       "      <td>iDR4_3_STRIPE82-0120_0002848</td>\n",
       "      <td>323.358781</td>\n",
       "      <td>0.105739</td>\n",
       "      <td>26.210192</td>\n",
       "      <td>22.238020</td>\n",
       "      <td>99.000000</td>\n",
       "      <td>99.000000</td>\n",
       "      <td>21.963196</td>\n",
       "      <td>21.908920</td>\n",
       "      <td>21.698889</td>\n",
       "      <td>...</td>\n",
       "      <td>21.907974</td>\n",
       "      <td>21.229853</td>\n",
       "      <td>0</td>\n",
       "      <td>0.244746</td>\n",
       "      <td>2.489914</td>\n",
       "      <td>NaN</td>\n",
       "      <td>NaN</td>\n",
       "      <td>1</td>\n",
       "      <td>0</td>\n",
       "      <td>0</td>\n",
       "    </tr>\n",
       "    <tr>\n",
       "      <th>58739</th>\n",
       "      <td>iDR4_3_STRIPE82-0005_0027984</td>\n",
       "      <td>2.934505</td>\n",
       "      <td>-0.395609</td>\n",
       "      <td>20.452728</td>\n",
       "      <td>20.890343</td>\n",
       "      <td>20.756990</td>\n",
       "      <td>21.070818</td>\n",
       "      <td>20.414760</td>\n",
       "      <td>19.983166</td>\n",
       "      <td>19.931622</td>\n",
       "      <td>...</td>\n",
       "      <td>18.965235</td>\n",
       "      <td>18.848484</td>\n",
       "      <td>2</td>\n",
       "      <td>0.046375</td>\n",
       "      <td>2.068884</td>\n",
       "      <td>NaN</td>\n",
       "      <td>NaN</td>\n",
       "      <td>1</td>\n",
       "      <td>0</td>\n",
       "      <td>0</td>\n",
       "    </tr>\n",
       "    <tr>\n",
       "      <th>98018</th>\n",
       "      <td>iDR4_3_STRIPE82-0019_0007736</td>\n",
       "      <td>13.359505</td>\n",
       "      <td>-1.090384</td>\n",
       "      <td>21.241896</td>\n",
       "      <td>21.098024</td>\n",
       "      <td>23.658327</td>\n",
       "      <td>20.679897</td>\n",
       "      <td>20.036900</td>\n",
       "      <td>20.549072</td>\n",
       "      <td>20.429842</td>\n",
       "      <td>...</td>\n",
       "      <td>20.209044</td>\n",
       "      <td>20.328220</td>\n",
       "      <td>0</td>\n",
       "      <td>0.076978</td>\n",
       "      <td>1.050654</td>\n",
       "      <td>NaN</td>\n",
       "      <td>NaN</td>\n",
       "      <td>1</td>\n",
       "      <td>0</td>\n",
       "      <td>0</td>\n",
       "    </tr>\n",
       "  </tbody>\n",
       "</table>\n",
       "<p>133131 rows × 23 columns</p>\n",
       "</div>"
      ],
      "text/plain": [
       "                                  ID        RA_1     DEC_1      u_iso  \\\n",
       "40573   iDR4_3_STRIPE82-0062_0018609   41.737552  0.709117  22.803257   \n",
       "3976    iDR4_3_STRIPE82-0015_0005352    9.796036 -1.214655  17.553290   \n",
       "53724   iDR4_3_STRIPE82-0033_0036855   23.119002 -0.159082  23.591427   \n",
       "38856   iDR4_3_STRIPE82-0020_0033506   12.821747  0.961903  99.000000   \n",
       "980     iDR4_3_STRIPE82-0109_0077952  316.226422 -0.062439  17.282547   \n",
       "...                              ...         ...       ...        ...   \n",
       "128428  iDR4_3_STRIPE82-0047_0010400   32.786951 -0.958955  22.498566   \n",
       "115669  iDR4_3_STRIPE82-0026_0023742   17.528267  0.607531  23.519619   \n",
       "127151  iDR4_3_STRIPE82-0120_0002848  323.358781  0.105739  26.210192   \n",
       "58739   iDR4_3_STRIPE82-0005_0027984    2.934505 -0.395609  20.452728   \n",
       "98018   iDR4_3_STRIPE82-0019_0007736   13.359505 -1.090384  21.241896   \n",
       "\n",
       "        J0378_iso  J0395_iso  J0410_iso  J0430_iso      g_iso  J0515_iso  ...  \\\n",
       "40573   21.570564  20.394072  22.049292  22.172140  19.920929  20.161518  ...   \n",
       "3976    17.087702  17.032228  16.685562  16.612263  16.389988  16.269800  ...   \n",
       "53724   22.685244  20.671950  20.825050  20.590600  20.480804  20.199745  ...   \n",
       "38856   22.702345  99.000000  20.625496  21.230413  20.072119  20.190523  ...   \n",
       "980     16.964577  16.715021  16.180395  16.062126  15.601593  15.424949  ...   \n",
       "...           ...        ...        ...        ...        ...        ...  ...   \n",
       "128428  22.507536  25.487170  23.579075  99.000000  21.969496  22.139929  ...   \n",
       "115669  22.462156  21.948318  22.559492  22.507400  22.022938  21.708664  ...   \n",
       "127151  22.238020  99.000000  99.000000  21.963196  21.908920  21.698889  ...   \n",
       "58739   20.890343  20.756990  21.070818  20.414760  19.983166  19.931622  ...   \n",
       "98018   21.098024  23.658327  20.679897  20.036900  20.549072  20.429842  ...   \n",
       "\n",
       "        J0861_iso      z_iso  target   e_r_iso    FWHM_n  w1mpro  w2mpro  \\\n",
       "40573   17.356270  17.337421       1  0.023448  1.011161  14.946  14.820   \n",
       "3976    15.967942  15.990722       1  0.004742  1.005735  14.865  14.821   \n",
       "53724   18.163343  18.066355       1  0.027075  0.966917  15.743  15.984   \n",
       "38856   17.415493  17.328402       1  0.020592  1.097667  14.975  15.142   \n",
       "980     14.789743  14.747582       1  0.001591  1.034177  13.365  13.418   \n",
       "...           ...        ...     ...       ...       ...     ...     ...   \n",
       "128428  21.570396  21.504948       1  0.208099  2.577389     NaN     NaN   \n",
       "115669  20.602158  21.504713       1  0.089766  1.042697     NaN     NaN   \n",
       "127151  21.907974  21.229853       0  0.244746  2.489914     NaN     NaN   \n",
       "58739   18.965235  18.848484       2  0.046375  2.068884     NaN     NaN   \n",
       "98018   20.209044  20.328220       0  0.076978  1.050654     NaN     NaN   \n",
       "\n",
       "        test  train  validation  \n",
       "40573      0      1           0  \n",
       "3976       0      1           0  \n",
       "53724      0      1           0  \n",
       "38856      0      1           0  \n",
       "980        0      1           0  \n",
       "...      ...    ...         ...  \n",
       "128428     1      0           0  \n",
       "115669     1      0           0  \n",
       "127151     1      0           0  \n",
       "58739      1      0           0  \n",
       "98018      1      0           0  \n",
       "\n",
       "[133131 rows x 23 columns]"
      ]
     },
     "execution_count": 30,
     "metadata": {},
     "output_type": "execute_result"
    }
   ],
   "source": [
    "final"
   ]
  }
 ],
 "metadata": {
  "kernelspec": {
   "display_name": "Python 3.9.7 ('base')",
   "language": "python",
   "name": "python3"
  },
  "language_info": {
   "codemirror_mode": {
    "name": "ipython",
    "version": 3
   },
   "file_extension": ".py",
   "mimetype": "text/x-python",
   "name": "python",
   "nbconvert_exporter": "python",
   "pygments_lexer": "ipython3",
   "version": "3.9.7"
  },
  "vscode": {
   "interpreter": {
    "hash": "cb22f516c9dbd103206a5f1b8c3011b228f1ef9007f783aade126d2be20f1f6e"
   }
  }
 },
 "nbformat": 4,
 "nbformat_minor": 2
}
