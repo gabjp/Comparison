{
 "cells": [
  {
   "cell_type": "markdown",
   "metadata": {},
   "source": [
    "# Explicação\n",
    "Nesse arquivo há:\n",
    "- Limpeza de dados usados para a classificação.\n",
    "- Uma breve análise desses dados."
   ]
  },
  {
   "cell_type": "code",
   "execution_count": 1,
   "metadata": {},
   "outputs": [],
   "source": [
    "from astropy.stats import sigma_clip, mad_std\n",
    "from astropy.table import Table\n",
    "import pandas as pd\n",
    "import numpy as np\n",
    "import matplotlib.pyplot as plt"
   ]
  },
  {
   "cell_type": "code",
   "execution_count": 2,
   "metadata": {},
   "outputs": [],
   "source": [
    "# From: https://github.com/marixko/MNRAS_nakazono_2021\n",
    "\n",
    "def apply_sigma_clip(data, mag_splus, mag_sdss, sigma_value=4):\n",
    "    '''\n",
    "    Apply n-sigma clipping on the S-PLUS and SDSS magnitude difference per \n",
    "    magnitude (from S-PLUS) bin of size 0.5 \n",
    "    \n",
    "    Keywords arguments:\n",
    "    data -- full dataset\n",
    "    mag_splus -- magnitude from S-PLUS\n",
    "    mag_sdss -- magnitude from SDSS\n",
    "    sigma_value -- value of n (default: 4)\n",
    "    create_plot -- determine if plot of mag_sdss - mag_splus x mag_splus is created\n",
    "    \n",
    "    returns a subset from data that pass through n-sigma clipping\n",
    "    '''\n",
    "    aux2 = data\n",
    "    final_data = pd.DataFrame([])\n",
    "    for i in np.arange(np.floor(np.min(data.query(mag_splus+'!=99 and '+mag_splus+'!=-99')[mag_splus])), np.ceil(np.max(data.query(mag_splus+'!=99 and '+mag_splus+'!=-99')[mag_splus])), 0.5):\n",
    "        aux = aux2[(aux2[mag_splus] > i) & (aux2[mag_splus] <= i+0.5)].query(mag_sdss+'< 90 and '+mag_sdss+\"> -90 and \"+mag_splus+\" <90\")\n",
    "        filtered_data = sigma_clip(\n",
    "            aux[mag_sdss]-aux[mag_splus], sigma=sigma_value, maxiters=5, stdfunc=mad_std, return_bounds=True)\n",
    "        if len(filtered_data) != 0:\n",
    "            final_data = pd.concat(\n",
    "                [final_data, aux[filtered_data[0].mask == False]], axis=0)\n",
    "\n",
    "    return final_data"
   ]
  },
  {
   "cell_type": "code",
   "execution_count": 3,
   "metadata": {},
   "outputs": [
    {
     "name": "stderr",
     "output_type": "stream",
     "text": [
      "WARNING: VerifyWarning: It is strongly recommended that column names contain only upper and lower-case ASCII letters, digits, or underscores for maximum compatibility with other software (got '#SDSS_NAME'). [astropy.io.fits.column]\n",
      "WARNING: VerifyWarning: It is strongly recommended that column names contain only upper and lower-case ASCII letters, digits, or underscores for maximum compatibility with other software (got '#SpecObjid'). [astropy.io.fits.column]\n"
     ]
    }
   ],
   "source": [
    "QSO = Table.read(\"QSO_S82_iDR4.fits\", format='fits')\n",
    "QSO = QSO.to_pandas().assign(target=0).rename(columns={\"r\":\"modelmag_r\"})\n",
    "\n",
    "STAR = Table.read(\"STAR_S82_iDR4.fits\", format='fits')\n",
    "STAR = STAR.to_pandas().assign(target=1)\n",
    "\n",
    "GAL = Table.read(\"GALAXY_S82_iDR4.fits\", format='fits')\n",
    "GAL = GAL.to_pandas().assign(target=2)"
   ]
  },
  {
   "cell_type": "code",
   "execution_count": 4,
   "metadata": {},
   "outputs": [],
   "source": [
    "columns = ['ID','RA_1', 'DEC_1', 'u_iso', 'J0378_iso', 'J0395_iso', 'J0410_iso', 'J0430_iso',\n",
    "       'g_iso', 'J0515_iso', 'r_iso', 'J0660_iso', 'i_iso',\n",
    "       'J0861_iso', 'z_iso', 'target', 'e_r_iso', 'FWHM_n', 'w1mpro', 'w2mpro'] \n",
    "\n",
    "QSO = QSO[(QSO['SEX_FLAGS_r'] == 0) & (QSO['r_iso']<=22)]\n",
    "STAR = STAR[(STAR['SEX_FLAGS_r'] == 0) & (STAR['r_iso']<=22) & (STAR['r_iso']>13)]\n",
    "GAL = GAL[(GAL['SEX_FLAGS_r'] == 0) & (GAL['r_iso']<=22) & (GAL['zWarning']==0)]\n",
    "\n",
    "total = pd.concat([QSO,STAR,GAL])\n",
    "total = apply_sigma_clip(total, 'r_iso', 'modelmag_r',)\n",
    "total = total[columns].reset_index().drop(columns='index')"
   ]
  },
  {
   "cell_type": "markdown",
   "metadata": {},
   "source": [
    "### Observação:\n",
    "Aqui, eu utilizo as magnitudes do wise para obter a mesma divisão treino/testo do classificador atual do DR4.\n",
    "O processo utilizado antes foi o seguinte:\n",
    " - Separar os dados em dois conjuntos disjuntos: os que possuem observação no WISE e os que não possuem.\n",
    " - Para cada conjunto, separar treino/teste com 25% para teste.\n",
    " - Unir, novamente, os conjuntos.\n",
    "\n",
    "Como eu não tenho nenhuma garantia (e, por uma observação feita enquanto reproduzia o artigo da Lilianne, tenho conviccção de que não) de que $split(a) + split(b) = split(a+b)$, vou usar as colunas do WISE para fazer o mesmo processo. Embora o WISE não possua significado nesse contexto, farei isso apenas para assegurar a mesma divisão."
   ]
  },
  {
   "cell_type": "code",
   "execution_count": 5,
   "metadata": {},
   "outputs": [],
   "source": [
    "from sklearn.model_selection import train_test_split\n",
    "\n",
    "with_wise = total[~total[\"w1mpro\"].isna() & ~total[\"w2mpro\"].isna()] \n",
    "\n",
    "target = with_wise[\"target\"]\n",
    "X_train_wise, X_test_wise, y_train_wise, y_test_wise = train_test_split(with_wise, target,test_size=0.25,random_state=2,stratify=target)"
   ]
  },
  {
   "cell_type": "code",
   "execution_count": 6,
   "metadata": {},
   "outputs": [],
   "source": [
    "no_wise =  total.merge(with_wise, how='left', indicator=True)\n",
    "no_wise = no_wise[no_wise['_merge'] == 'left_only']\n",
    "target = no_wise[\"target\"]\n",
    "X_train_no_wise, X_test_no_wise, y_train_no_wise, y_test_no_wise = train_test_split(no_wise, target,test_size=0.25,random_state=2,stratify=target)"
   ]
  },
  {
   "cell_type": "code",
   "execution_count": 7,
   "metadata": {},
   "outputs": [],
   "source": [
    "X_train_total = pd.concat([X_train_wise,X_train_no_wise]).assign(test=0)\n",
    "X_test_total = pd.concat([X_test_wise, X_test_no_wise]).assign(test=1, train=0, validation=0)"
   ]
  },
  {
   "cell_type": "markdown",
   "metadata": {},
   "source": [
    "### Observações: \n",
    "Agora, temos a seguinte propriedade: \\\n",
    "Para um objeto $o$, se $o['test'] = 1$, então $o$ estava no conjunto de testes do modelo treinado para o DR4. A recíproca também vale.\n",
    "\n",
    "\n",
    "Agora, irei definir um conjunto de validação. Esse conjunto não está relacionado com o modelo treinado para o DR4, então não precisarei utilizar as informações do WISE. O conjunto de validação pegará 20% de X_train_total (que possui 75% de todos os dados). \\\n",
    "\\\n",
    "Logo, o split será:\n",
    " - Treino: 60%\n",
    " - Validação: 15%\n",
    " - Teste: 25%\n",
    "\n",
    "Esse split é apenas inicial e pode mudar no futuro.\n",
    "\n"
   ]
  },
  {
   "cell_type": "code",
   "execution_count": 8,
   "metadata": {},
   "outputs": [],
   "source": [
    "target = X_train_total[\"target\"]\n",
    "X_train, X_val, y_train, y_val = train_test_split(X_train_total, target,test_size=0.20,random_state=2,stratify=target)"
   ]
  },
  {
   "cell_type": "code",
   "execution_count": 9,
   "metadata": {},
   "outputs": [],
   "source": [
    "X_train = X_train.assign( train=1, validation=0)\n",
    "X_val = X_val.assign(train=0, validation=1)"
   ]
  },
  {
   "cell_type": "code",
   "execution_count": 10,
   "metadata": {},
   "outputs": [],
   "source": [
    "final = pd.concat([X_train, X_val, X_test_total]).drop(columns=\"_merge\")"
   ]
  },
  {
   "cell_type": "markdown",
   "metadata": {},
   "source": [
    "## Visualizações:"
   ]
  },
  {
   "cell_type": "code",
   "execution_count": 84,
   "metadata": {},
   "outputs": [
    {
     "data": {
      "image/png": "[encoded data removed]",
      "text/plain": [
       "<Figure size 1080x504 with 3 Axes>"
      ]
     },
     "metadata": {
      "needs_background": "light"
     },
     "output_type": "display_data"
    }
   ],
   "source": [
    "# Adaptado de https://github.com/marixko/MNRAS_nakazono_2021/blob/main/Nakazono_et_al_2021.ipynb\n",
    "\n",
    "blue = (0, 0.48, 0.70)\n",
    "orange = (230/255,159/255, 0)\n",
    "yellow = (0.94, 0.89, 0.26)\n",
    "pink = (0.8, 0.47, 0.65)\n",
    "\n",
    "plt.rcParams.update({'font.size': 18})\n",
    "fig, ax = plt.subplots(1,3, figsize=(15,7))\n",
    "\n",
    "bins = np.arange(12,22.1,1)\n",
    "log = True\n",
    "density = False\n",
    "ax[0].hist(final[(final.target==0) & (final.train==1)].r_iso, histtype=\"step\", linewidth=3, linestyle=\"dotted\", bins=bins,\n",
    "             color=pink, log=log, density=density, label=\"Train\", zorder=3)\n",
    "ax[0].hist(final[(final.target==0) & (final.validation==1)].r_iso, bins=bins, color=pink, log=log, density=density, label=\"Validation\", zorder=3)\n",
    "ax[0].hist(final[(final.target==0) & (final.test==1)].r_iso, histtype=\"step\", linewidth=3, linestyle=\"dashed\", bins=bins,\n",
    "             color=pink, log=log, density=density, label=\"Test\", zorder=3)\n",
    "\n",
    "ax[1].hist(final[(final.target==1) & (final.train==1)].r_iso, histtype=\"step\", linewidth=3, linestyle=\"dotted\", bins=bins,\n",
    "             color=blue, log=log, density=density, label=\"Train\", zorder=3)\n",
    "ax[1].hist(final[(final.target==1) & (final.validation==1)].r_iso, bins=bins, color=blue, log=log, density=density, label=\"Validation\", zorder=3)\n",
    "ax[1].hist(final[(final.target==1) & (final.test==1)].r_iso, histtype=\"step\", linewidth=3, linestyle=\"dashed\", bins=bins,\n",
    "             color=blue, log=log, density=density, label=\"Test\", zorder=3)\n",
    "\n",
    "\n",
    "ax[2].hist(final[(final.target==2) & (final.train==1)].r_iso, histtype=\"step\", linewidth=3, linestyle=\"dotted\", bins=bins,\n",
    "             color=yellow, log=log, density=density, label=\"Train\", zorder=3)\n",
    "ax[2].hist(final[(final.target==2)& (final.validation==1)].r_iso, bins=bins, color=yellow, log=log, density=density, label=\"Validation\", zorder=3)\n",
    "ax[2].hist(final[(final.target==2) & (final.test==1)].r_iso, histtype=\"step\", linewidth=3, linestyle=\"dashed\", bins=bins,\n",
    "             color=yellow, log=log, density=density, label=\"Test\", zorder=3)\n",
    "\n",
    "\n",
    "\n",
    "for j in [0,1,2]:\n",
    "    if j == 0:\n",
    "        title=\"QSO\"\n",
    "    elif j == 1:\n",
    "        title=\"STAR\"\n",
    "    else:\n",
    "        title =\"GALAXY\"\n",
    "    \n",
    "    ax[j].minorticks_on()\n",
    "    ax[j].grid(zorder=0)\n",
    "    ax[j].set_xticks(np.arange(12,22.1,2))\n",
    "    ax[j].legend(loc=\"upper left\", title=title, prop={'size': 15}, title_fontsize=18)\n",
    "        \n",
    "plt.setp(ax, xlim=(12,22), ylim=(0.1,1000000) ,xlabel='r', ylabel = \"Frequency\")\n",
    "plt.tight_layout()"
   ]
  },
  {
   "cell_type": "code",
   "execution_count": 11,
   "metadata": {},
   "outputs": [
    {
     "name": "stdout",
     "output_type": "stream",
     "text": [
      "Existem 7 objetos com magnitude <= 14\n",
      "Existem 291 objetos com magnitude 14<r<=15\n",
      "Existem 3308 objetos com magnitude 15<r<=16\n",
      "Existem 7327 objetos com magnitude 16<r<=17\n",
      "Existem 14803 objetos com magnitude 17<r<=18\n",
      "Existem 24564 objetos com magnitude 18<r<=19\n",
      "Existem 33556 objetos com magnitude 19<r<=20\n",
      "Existem 27362 objetos com magnitude 20<r<=21\n",
      "Existem 21978 objetos com magnitude 21<r<=22\n"
     ]
    }
   ],
   "source": [
    "print(f\"Existem {len(final[final.r_iso<=14])} objetos com magnitude <= 14\")\n",
    "for i in range(15,23):\n",
    "    print(f\"Existem {len(final[(final.r_iso>i-1)&(final.r_iso<=i)])} objetos com magnitude {i-1}<r<={i}\")"
   ]
  },
  {
   "cell_type": "markdown",
   "metadata": {},
   "source": [
    "## Análise da Distribuição de magnitude"
   ]
  },
  {
   "cell_type": "code",
   "execution_count": 85,
   "metadata": {},
   "outputs": [
    {
     "data": {
      "text/plain": [
       "<matplotlib.axes._subplots.AxesSubplot at 0x7f7bc11fcb80>"
      ]
     },
     "execution_count": 85,
     "metadata": {},
     "output_type": "execute_result"
    },
    {
     "data": {
      "image/png": "[encoded data removed]",
      "text/plain": [
       "<Figure size 432x288 with 1 Axes>"
      ]
     },
     "metadata": {
      "needs_background": "light"
     },
     "output_type": "display_data"
    }
   ],
   "source": [
    "plt.title(\"mag_r <22\")\n",
    "total.r_iso.hist(bins=15)"
   ]
  },
  {
   "cell_type": "code",
   "execution_count": 87,
   "metadata": {},
   "outputs": [
    {
     "name": "stdout",
     "output_type": "stream",
     "text": [
      "54650 objetos foram eliminados\n"
     ]
    }
   ],
   "source": [
    "teste = total[total.e_r_iso <0.05]\n",
    "print(f\"{len(total)-len(teste)} objetos foram eliminados\")"
   ]
  },
  {
   "cell_type": "code",
   "execution_count": 88,
   "metadata": {},
   "outputs": [
    {
     "data": {
      "text/plain": [
       "<matplotlib.axes._subplots.AxesSubplot at 0x7f7bd6c27c40>"
      ]
     },
     "execution_count": 88,
     "metadata": {},
     "output_type": "execute_result"
    },
    {
     "data": {
      "image/png": "[encoded data removed]",
      "text/plain": [
       "<Figure size 432x288 with 1 Axes>"
      ]
     },
     "metadata": {
      "needs_background": "light"
     },
     "output_type": "display_data"
    }
   ],
   "source": [
    "plt.title(\"mag_r <22 e e_mag_r <0.05\")\n",
    "teste.r_iso.hist(bins=15)"
   ]
  },
  {
   "cell_type": "markdown",
   "metadata": {},
   "source": [
    "# Salvando em csv"
   ]
  },
  {
   "cell_type": "code",
   "execution_count": 96,
   "metadata": {},
   "outputs": [],
   "source": [
    "final['ID'] = final['ID'].str.decode('utf-8').str[2:30] \n",
    "final.reset_index().drop(columns='index').to_csv(\"clf.csv\")"
   ]
  }
 ],
 "metadata": {
  "kernelspec": {
   "display_name": "Python 3.9.7 ('base')",
   "language": "python",
   "name": "python3"
  },
  "language_info": {
   "codemirror_mode": {
    "name": "ipython",
    "version": 3
   },
   "file_extension": ".py",
   "mimetype": "text/x-python",
   "name": "python",
   "nbconvert_exporter": "python",
   "pygments_lexer": "ipython3",
   "version": "3.9.7"
  },
  "vscode": {
   "interpreter": {
    "hash": "cb22f516c9dbd103206a5f1b8c3011b228f1ef9007f783aade126d2be20f1f6e"
   }
  }
 },
 "nbformat": 4,
 "nbformat_minor": 2
}
