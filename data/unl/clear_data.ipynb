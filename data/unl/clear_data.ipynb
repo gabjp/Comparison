{
 "cells": [
  {
   "cell_type": "markdown",
   "metadata": {},
   "source": [
    "# Explicação:\n",
    "Nesse arquivo há:\n",
    " - Junção e análise dos dados em catálogo usados para a tarefa de pré-treino.\n",
    "Especificamente:\n",
    " - Tratamento do arquivo de 22GB dos objetos do Stripe82 do DR4\n",
    " - Selecão de objetos para o primeiro conjunto de pré-treino (filtrados, sem valores de 99 e seguindo a distribuição correta)\n",
    " - Breve análise desses dados"
   ]
  },
  {
   "cell_type": "code",
   "execution_count": 3,
   "metadata": {},
   "outputs": [],
   "source": [
    "import pandas as pd\n",
    "import numpy as np\n"
   ]
  },
  {
   "cell_type": "markdown",
   "metadata": {},
   "source": [
    "### Gera CSV limpo:"
   ]
  },
  {
   "cell_type": "code",
   "execution_count": 4,
   "metadata": {},
   "outputs": [],
   "source": [
    "columns = ['ID', 'RA', 'DEC', 'A', 'B', 'KRON_RADIUS', 'FWHM_n', 'e_r_iso', 'u_iso', 'J0378_iso', 'J0395_iso', 'J0410_iso', 'J0430_iso', 'g_iso', 'J0515_iso', 'r_iso', \n",
    "'J0660_iso', 'i_iso', 'J0861_iso', 'z_iso','SEX_FLAGS_r']\n",
    "datafile = \"/media/gjperin/64gbgabriel/STRIPE82_iDR4.csv\"\n",
    "chunksize = 100000\n",
    "dfs = []\n",
    "for chunk in pd.read_csv(datafile, chunksize=chunksize):\n",
    "    useful = chunk[columns]\n",
    "    useful = useful[(useful.SEX_FLAGS_r == 0) & (useful.r_iso < 22)]\n",
    "    dfs.append(useful)\n",
    "\n",
    "final = pd.concat(dfs)"
   ]
  },
  {
   "cell_type": "code",
   "execution_count": 15,
   "metadata": {},
   "outputs": [],
   "source": [
    "final['ID'] = final['ID'].str[2:30]"
   ]
  },
  {
   "cell_type": "code",
   "execution_count": 14,
   "metadata": {},
   "outputs": [],
   "source": [
    "final.to_csv('./raw_tables/S82_clean.csv')"
   ]
  },
  {
   "cell_type": "markdown",
   "metadata": {},
   "source": [
    "### Retira objetos com classificação"
   ]
  },
  {
   "cell_type": "code",
   "execution_count": 17,
   "metadata": {},
   "outputs": [
    {
     "name": "stdout",
     "output_type": "stream",
     "text": [
      "unl possui 3179663 linhas\n",
      "clf possui 133131 linhas\n"
     ]
    }
   ],
   "source": [
    "unl = pd.read_csv(\"raw_tables/S82_clean.csv\")\n",
    "clf = pd.read_csv(\"../clf/clf.csv\")\n",
    "print(f\"unl possui {len(unl)} linhas\")\n",
    "print(f\"clf possui {len(clf)} linhas\")"
   ]
  },
  {
   "cell_type": "code",
   "execution_count": 40,
   "metadata": {},
   "outputs": [
    {
     "name": "stdout",
     "output_type": "stream",
     "text": [
      "x possui 3046532 linhas\n"
     ]
    }
   ],
   "source": [
    "clf = clf.ID\n",
    "x = pd.merge(unl,clf, indicator=True, how='outer', on=\"ID\").query('_merge==\"left_only\"').drop('_merge', axis=1)\n",
    "print(f\"x possui {len(x)} linhas\")"
   ]
  },
  {
   "cell_type": "markdown",
   "metadata": {},
   "source": [
    "### Retira objetos com magnitude 99"
   ]
  },
  {
   "cell_type": "code",
   "execution_count": 41,
   "metadata": {},
   "outputs": [],
   "source": [
    "x = x[(x['u_iso']!= 99) & (x['J0378_iso']!= 99) & (x['J0395_iso']!= 99) & (x['J0410_iso']!= 99) & (x['J0430_iso']!= 99) & (x['g_iso']!= 99) & (x['J0515_iso']!= 99) & \n",
    "      (x['r_iso'] != 99) & (x['J0660_iso']!= 99) & (x['i_iso']!= 99) & (x['J0861_iso']!= 99) & (x['z_iso']!= 99) ]"
   ]
  },
  {
   "cell_type": "markdown",
   "metadata": {},
   "source": [
    "### Análise da distribuição:"
   ]
  },
  {
   "cell_type": "code",
   "execution_count": 43,
   "metadata": {},
   "outputs": [
    {
     "name": "stdout",
     "output_type": "stream",
     "text": [
      "Existem 17648 objetos com magnitude <= 14\n",
      "Existem 25165 objetos com magnitude 14<r<=15 (2.1083242152744384%)\n",
      "Existem 44332 objetos com magnitude 15<r<=16 (3.714135867734806%)\n",
      "Existem 74477 objetos com magnitude 16<r<=17 (6.239684584978913%)\n",
      "Existem 120550 objetos com magnitude 17<r<=18 (10.099681468362151%)\n",
      "Existem 182653 objetos com magnitude 18<r<=19 (15.302672079973057%)\n",
      "Existem 238015 objetos com magnitude 19<r<=20 (19.940901573556342%)\n",
      "Existem 265689 objetos com magnitude 20<r<=21 (22.25942986020466%)\n",
      "Existem 225073 objetos com magnitude 21<r<=22 (18.856620548558062%)\n"
     ]
    }
   ],
   "source": [
    "print(f\"Existem {len(x[x.r_iso<=14])} objetos com magnitude <= 14\")\n",
    "for i in range(15,23):\n",
    "    c = len(x[(x.r_iso>i-1)&(x.r_iso<=i)])\n",
    "    print(f\"Existem {c} objetos com magnitude {i-1}<r<={i} ({c/len(x)*100}%)\")"
   ]
  },
  {
   "cell_type": "markdown",
   "metadata": {},
   "source": [
    "### Podar os dados para a distribuição desejada:"
   ]
  },
  {
   "cell_type": "code",
   "execution_count": 60,
   "metadata": {},
   "outputs": [],
   "source": [
    "p = {(19,20):238015, (20,21):190412, (18,19):174733, (21,22):155843, (17,18):104839, (16,17):51947, (15,16):23612, (14,15):1889}\n",
    "datafs = []\n",
    "for key in p.keys():\n",
    "    t = x[(x.r_iso > key[0]) & (x.r_iso <= key[1])]\n",
    "    datafs.append(t.sample(n = p[key], axis='index', random_state=2))\n",
    "final_b = pd.concat(datafs).reset_index(drop=True)"
   ]
  },
  {
   "cell_type": "code",
   "execution_count": 61,
   "metadata": {},
   "outputs": [
    {
     "data": {
      "text/plain": [
       "<matplotlib.axes._subplots.AxesSubplot at 0x7f16c11b6dc0>"
      ]
     },
     "execution_count": 61,
     "metadata": {},
     "output_type": "execute_result"
    },
    {
     "data": {
      "image/png": "[encoded data removed]",
      "text/plain": [
       "<Figure size 432x288 with 1 Axes>"
      ]
     },
     "metadata": {
      "needs_background": "light"
     },
     "output_type": "display_data"
    }
   ],
   "source": [
    "final_b.r_iso.hist(bins=15)"
   ]
  },
  {
   "cell_type": "code",
   "execution_count": 56,
   "metadata": {},
   "outputs": [],
   "source": [
    "p = {(19,20):238015//8, (20,21):190412//8, (18,19):174733//8, (21,22):155843//8, (17,18):104839//8, (16,17):51947//8, (15,16):23612//8, (14,15):1889//8}\n",
    "datafs = []\n",
    "for key in p.keys():\n",
    "    t = x[(x.r_iso > key[0]) & (x.r_iso <= key[1])]\n",
    "    datafs.append(t.sample(n = p[key], axis='index', random_state=2))\n",
    "final_s = pd.concat(datafs).reset_index(drop=True)"
   ]
  },
  {
   "cell_type": "code",
   "execution_count": 57,
   "metadata": {},
   "outputs": [
    {
     "data": {
      "text/plain": [
       "<matplotlib.axes._subplots.AxesSubplot at 0x7f16c123e5e0>"
      ]
     },
     "execution_count": 57,
     "metadata": {},
     "output_type": "execute_result"
    },
    {
     "data": {
      "image/png": "[encoded data removed]",
      "text/plain": [
       "<Figure size 432x288 with 1 Axes>"
      ]
     },
     "metadata": {
      "needs_background": "light"
     },
     "output_type": "display_data"
    }
   ],
   "source": [
    "final_s.r_iso.hist(bins=15)"
   ]
  },
  {
   "cell_type": "markdown",
   "metadata": {},
   "source": [
    "### Retira objetos sem imagem"
   ]
  },
  {
   "cell_type": "code",
   "execution_count": 74,
   "metadata": {},
   "outputs": [],
   "source": [
    "IDS = ['iDR4_3_STRIPE82-0074_0050444',\n",
    "'iDR4_3_STRIPE82-0088_0134958',\n",
    "'iDR4_3_STRIPE82-0119_0007873',\n",
    "'iDR4_3_STRIPE82-0121_0000836',\n",
    "'iDR4_3_STRIPE82-0134_0029763',\n",
    "'iDR4_3_STRIPE82-0087_0139570',\n",
    "'iDR4_3_STRIPE82-0042_0044839',\n",
    "'iDR4_3_STRIPE82-0130_0029840',\n",
    "'iDR4_3_STRIPE82-0158_0030865',\n",
    "'iDR4_3_STRIPE82-0087_0139219',\n",
    "'iDR4_3_STRIPE82-0110_0066277',\n",
    "'iDR4_3_STRIPE82-0088_0132786',\n",
    "'iDR4_3_STRIPE82-0110_0074857',\n",
    "'iDR4_3_STRIPE82-0088_0137405',\n",
    "'iDR4_3_STRIPE82-0042_0044898',\n",
    "'iDR4_3_STRIPE82-0121_0002535',\n",
    "'iDR4_3_STRIPE82-0110_0074358',\n",
    "'iDR4_3_STRIPE82-0119_0000975',\n",
    "'iDR4_3_STRIPE82-0088_0136078',\n",
    "'iDR4_3_STRIPE82-0034_0030830',\n",
    "'iDR4_3_STRIPE82-0092_0104473',\n",
    "'iDR4_3_STRIPE82-0119_0005304',\n",
    "'iDR4_3_STRIPE82-0121_0003994',\n",
    "'iDR4_3_STRIPE82-0121_0002900',\n",
    "'iDR4_3_STRIPE82-0119_0003104',\n",
    "'iDR4_3_STRIPE82-0036_0013965',\n",
    "'iDR4_3_STRIPE82-0088_0138553']\n",
    "final_s = final_s[~(final_s.ID.isin(IDS))]"
   ]
  },
  {
   "cell_type": "markdown",
   "metadata": {},
   "source": [
    "### Train/Test/Val Split"
   ]
  },
  {
   "cell_type": "code",
   "execution_count": 75,
   "metadata": {},
   "outputs": [],
   "source": [
    "from sklearn.model_selection import train_test_split\n",
    "train, test = train_test_split(final_s, test_size=0.25,random_state=2)\n",
    "train, val = train_test_split(train, test_size=0.2,random_state=2)\n",
    "train.assign(split=\"train\")\n",
    "test.assign(split=\"test\")\n",
    "val.assign(split=\"val\")\n",
    "final_s = pd.concat([train,test,val])    "
   ]
  },
  {
   "cell_type": "code",
   "execution_count": 76,
   "metadata": {},
   "outputs": [],
   "source": [
    "final_s.to_csv(\"unl_small.csv\")\n",
    "final_b.to_csv(\"unl_big.csv\")"
   ]
  },
  {
   "cell_type": "code",
   "execution_count": 77,
   "metadata": {},
   "outputs": [
    {
     "data": {
      "text/html": [
       "<div>\n",
       "<style scoped>\n",
       "    .dataframe tbody tr th:only-of-type {\n",
       "        vertical-align: middle;\n",
       "    }\n",
       "\n",
       "    .dataframe tbody tr th {\n",
       "        vertical-align: top;\n",
       "    }\n",
       "\n",
       "    .dataframe thead th {\n",
       "        text-align: right;\n",
       "    }\n",
       "</style>\n",
       "<table border=\"1\" class=\"dataframe\">\n",
       "  <thead>\n",
       "    <tr style=\"text-align: right;\">\n",
       "      <th></th>\n",
       "      <th>Unnamed: 0</th>\n",
       "      <th>ID</th>\n",
       "      <th>RA</th>\n",
       "      <th>DEC</th>\n",
       "      <th>A</th>\n",
       "      <th>B</th>\n",
       "      <th>KRON_RADIUS</th>\n",
       "      <th>FWHM_n</th>\n",
       "      <th>e_r_iso</th>\n",
       "      <th>u_iso</th>\n",
       "      <th>...</th>\n",
       "      <th>J0410_iso</th>\n",
       "      <th>J0430_iso</th>\n",
       "      <th>g_iso</th>\n",
       "      <th>J0515_iso</th>\n",
       "      <th>r_iso</th>\n",
       "      <th>J0660_iso</th>\n",
       "      <th>i_iso</th>\n",
       "      <th>J0861_iso</th>\n",
       "      <th>z_iso</th>\n",
       "      <th>SEX_FLAGS_r</th>\n",
       "    </tr>\n",
       "  </thead>\n",
       "  <tbody>\n",
       "    <tr>\n",
       "      <th>7776</th>\n",
       "      <td>7030983</td>\n",
       "      <td>iDR4_3_STRIPE82-0119_0059914</td>\n",
       "      <td>322.627755</td>\n",
       "      <td>-0.285486</td>\n",
       "      <td>0.000385</td>\n",
       "      <td>0.000369</td>\n",
       "      <td>4.238839</td>\n",
       "      <td>1.637378</td>\n",
       "      <td>0.036496</td>\n",
       "      <td>21.564539</td>\n",
       "      <td>...</td>\n",
       "      <td>22.045912</td>\n",
       "      <td>21.638773</td>\n",
       "      <td>20.991909</td>\n",
       "      <td>20.538094</td>\n",
       "      <td>19.725151</td>\n",
       "      <td>19.530891</td>\n",
       "      <td>19.195642</td>\n",
       "      <td>18.983278</td>\n",
       "      <td>18.834106</td>\n",
       "      <td>0.0</td>\n",
       "    </tr>\n",
       "    <tr>\n",
       "      <th>114998</th>\n",
       "      <td>7154018</td>\n",
       "      <td>iDR4_3_STRIPE82-0122_0002220</td>\n",
       "      <td>324.761795</td>\n",
       "      <td>0.035668</td>\n",
       "      <td>0.000399</td>\n",
       "      <td>0.000357</td>\n",
       "      <td>3.077435</td>\n",
       "      <td>1.089862</td>\n",
       "      <td>0.003747</td>\n",
       "      <td>17.881552</td>\n",
       "      <td>...</td>\n",
       "      <td>16.750145</td>\n",
       "      <td>16.639112</td>\n",
       "      <td>16.215332</td>\n",
       "      <td>15.992556</td>\n",
       "      <td>15.586078</td>\n",
       "      <td>15.530126</td>\n",
       "      <td>15.359089</td>\n",
       "      <td>15.281968</td>\n",
       "      <td>15.248761</td>\n",
       "      <td>0.0</td>\n",
       "    </tr>\n",
       "    <tr>\n",
       "      <th>8312</th>\n",
       "      <td>4401560</td>\n",
       "      <td>iDR4_3_STRIPE82-0089_0098315</td>\n",
       "      <td>301.522020</td>\n",
       "      <td>-0.262821</td>\n",
       "      <td>0.000274</td>\n",
       "      <td>0.000234</td>\n",
       "      <td>2.937651</td>\n",
       "      <td>1.022394</td>\n",
       "      <td>0.046845</td>\n",
       "      <td>22.524202</td>\n",
       "      <td>...</td>\n",
       "      <td>20.575956</td>\n",
       "      <td>21.357530</td>\n",
       "      <td>20.426039</td>\n",
       "      <td>20.056948</td>\n",
       "      <td>19.726414</td>\n",
       "      <td>19.734976</td>\n",
       "      <td>19.388985</td>\n",
       "      <td>19.505713</td>\n",
       "      <td>19.364515</td>\n",
       "      <td>0.0</td>\n",
       "    </tr>\n",
       "    <tr>\n",
       "      <th>84509</th>\n",
       "      <td>7164903</td>\n",
       "      <td>iDR4_3_STRIPE82-0122_0013105</td>\n",
       "      <td>324.303345</td>\n",
       "      <td>0.325145</td>\n",
       "      <td>0.000178</td>\n",
       "      <td>0.000164</td>\n",
       "      <td>1.820000</td>\n",
       "      <td>1.017672</td>\n",
       "      <td>0.088300</td>\n",
       "      <td>24.183031</td>\n",
       "      <td>...</td>\n",
       "      <td>22.987413</td>\n",
       "      <td>23.227780</td>\n",
       "      <td>22.707138</td>\n",
       "      <td>23.228012</td>\n",
       "      <td>21.009428</td>\n",
       "      <td>21.049292</td>\n",
       "      <td>20.307600</td>\n",
       "      <td>19.908516</td>\n",
       "      <td>19.922176</td>\n",
       "      <td>0.0</td>\n",
       "    </tr>\n",
       "    <tr>\n",
       "      <th>44133</th>\n",
       "      <td>9590</td>\n",
       "      <td>iDR4_3_STRIPE82-0001_0009591</td>\n",
       "      <td>359.663064</td>\n",
       "      <td>-1.061443</td>\n",
       "      <td>0.000457</td>\n",
       "      <td>0.000179</td>\n",
       "      <td>6.751365</td>\n",
       "      <td>3.649573</td>\n",
       "      <td>0.112069</td>\n",
       "      <td>23.180239</td>\n",
       "      <td>...</td>\n",
       "      <td>21.703121</td>\n",
       "      <td>23.341938</td>\n",
       "      <td>21.783049</td>\n",
       "      <td>21.746008</td>\n",
       "      <td>20.927141</td>\n",
       "      <td>20.966413</td>\n",
       "      <td>20.567896</td>\n",
       "      <td>20.115513</td>\n",
       "      <td>20.216870</td>\n",
       "      <td>0.0</td>\n",
       "    </tr>\n",
       "    <tr>\n",
       "      <th>...</th>\n",
       "      <td>...</td>\n",
       "      <td>...</td>\n",
       "      <td>...</td>\n",
       "      <td>...</td>\n",
       "      <td>...</td>\n",
       "      <td>...</td>\n",
       "      <td>...</td>\n",
       "      <td>...</td>\n",
       "      <td>...</td>\n",
       "      <td>...</td>\n",
       "      <td>...</td>\n",
       "      <td>...</td>\n",
       "      <td>...</td>\n",
       "      <td>...</td>\n",
       "      <td>...</td>\n",
       "      <td>...</td>\n",
       "      <td>...</td>\n",
       "      <td>...</td>\n",
       "      <td>...</td>\n",
       "      <td>...</td>\n",
       "      <td>...</td>\n",
       "    </tr>\n",
       "    <tr>\n",
       "      <th>20120</th>\n",
       "      <td>412886</td>\n",
       "      <td>iDR4_3_STRIPE82-0010_0008681</td>\n",
       "      <td>4.996160</td>\n",
       "      <td>0.187158</td>\n",
       "      <td>0.000437</td>\n",
       "      <td>0.000301</td>\n",
       "      <td>4.779213</td>\n",
       "      <td>2.377615</td>\n",
       "      <td>0.035711</td>\n",
       "      <td>22.395674</td>\n",
       "      <td>...</td>\n",
       "      <td>21.344511</td>\n",
       "      <td>21.128733</td>\n",
       "      <td>20.197447</td>\n",
       "      <td>20.205715</td>\n",
       "      <td>19.092392</td>\n",
       "      <td>18.886892</td>\n",
       "      <td>18.457945</td>\n",
       "      <td>18.259588</td>\n",
       "      <td>18.159845</td>\n",
       "      <td>0.0</td>\n",
       "    </tr>\n",
       "    <tr>\n",
       "      <th>70202</th>\n",
       "      <td>3093968</td>\n",
       "      <td>iDR4_3_STRIPE82-0066_0036920</td>\n",
       "      <td>45.953887</td>\n",
       "      <td>1.204088</td>\n",
       "      <td>0.000223</td>\n",
       "      <td>0.000204</td>\n",
       "      <td>3.673313</td>\n",
       "      <td>0.999899</td>\n",
       "      <td>0.024551</td>\n",
       "      <td>21.335440</td>\n",
       "      <td>...</td>\n",
       "      <td>21.267097</td>\n",
       "      <td>21.094860</td>\n",
       "      <td>19.864952</td>\n",
       "      <td>19.693230</td>\n",
       "      <td>18.986948</td>\n",
       "      <td>18.913212</td>\n",
       "      <td>18.687162</td>\n",
       "      <td>18.644405</td>\n",
       "      <td>18.563883</td>\n",
       "      <td>0.0</td>\n",
       "    </tr>\n",
       "    <tr>\n",
       "      <th>64991</th>\n",
       "      <td>3191222</td>\n",
       "      <td>iDR4_3_STRIPE82-0068_0044694</td>\n",
       "      <td>47.275083</td>\n",
       "      <td>1.412130</td>\n",
       "      <td>0.000279</td>\n",
       "      <td>0.000251</td>\n",
       "      <td>3.446228</td>\n",
       "      <td>1.027189</td>\n",
       "      <td>0.011164</td>\n",
       "      <td>20.553131</td>\n",
       "      <td>...</td>\n",
       "      <td>19.071726</td>\n",
       "      <td>19.101719</td>\n",
       "      <td>18.664106</td>\n",
       "      <td>18.445887</td>\n",
       "      <td>18.078062</td>\n",
       "      <td>18.066578</td>\n",
       "      <td>17.946255</td>\n",
       "      <td>17.886286</td>\n",
       "      <td>17.894705</td>\n",
       "      <td>0.0</td>\n",
       "    </tr>\n",
       "    <tr>\n",
       "      <th>31108</th>\n",
       "      <td>8730988</td>\n",
       "      <td>iDR4_3_STRIPE82-0153_0047081</td>\n",
       "      <td>347.471383</td>\n",
       "      <td>-0.062198</td>\n",
       "      <td>0.000190</td>\n",
       "      <td>0.000163</td>\n",
       "      <td>2.971901</td>\n",
       "      <td>1.123835</td>\n",
       "      <td>0.071066</td>\n",
       "      <td>22.143244</td>\n",
       "      <td>...</td>\n",
       "      <td>21.676517</td>\n",
       "      <td>21.374115</td>\n",
       "      <td>21.078966</td>\n",
       "      <td>20.612246</td>\n",
       "      <td>20.740742</td>\n",
       "      <td>20.851492</td>\n",
       "      <td>20.618935</td>\n",
       "      <td>20.708536</td>\n",
       "      <td>20.492004</td>\n",
       "      <td>0.0</td>\n",
       "    </tr>\n",
       "    <tr>\n",
       "      <th>51704</th>\n",
       "      <td>5582631</td>\n",
       "      <td>iDR4_3_STRIPE82-0100_0043294</td>\n",
       "      <td>308.477409</td>\n",
       "      <td>0.600608</td>\n",
       "      <td>0.000208</td>\n",
       "      <td>0.000185</td>\n",
       "      <td>3.193929</td>\n",
       "      <td>0.995063</td>\n",
       "      <td>0.047021</td>\n",
       "      <td>23.369740</td>\n",
       "      <td>...</td>\n",
       "      <td>21.818657</td>\n",
       "      <td>21.141820</td>\n",
       "      <td>20.897827</td>\n",
       "      <td>20.824945</td>\n",
       "      <td>20.176888</td>\n",
       "      <td>20.056522</td>\n",
       "      <td>19.893713</td>\n",
       "      <td>19.498377</td>\n",
       "      <td>19.544592</td>\n",
       "      <td>0.0</td>\n",
       "    </tr>\n",
       "  </tbody>\n",
       "</table>\n",
       "<p>117630 rows × 22 columns</p>\n",
       "</div>"
      ],
      "text/plain": [
       "        Unnamed: 0                            ID          RA       DEC  \\\n",
       "7776       7030983  iDR4_3_STRIPE82-0119_0059914  322.627755 -0.285486   \n",
       "114998     7154018  iDR4_3_STRIPE82-0122_0002220  324.761795  0.035668   \n",
       "8312       4401560  iDR4_3_STRIPE82-0089_0098315  301.522020 -0.262821   \n",
       "84509      7164903  iDR4_3_STRIPE82-0122_0013105  324.303345  0.325145   \n",
       "44133         9590  iDR4_3_STRIPE82-0001_0009591  359.663064 -1.061443   \n",
       "...            ...                           ...         ...       ...   \n",
       "20120       412886  iDR4_3_STRIPE82-0010_0008681    4.996160  0.187158   \n",
       "70202      3093968  iDR4_3_STRIPE82-0066_0036920   45.953887  1.204088   \n",
       "64991      3191222  iDR4_3_STRIPE82-0068_0044694   47.275083  1.412130   \n",
       "31108      8730988  iDR4_3_STRIPE82-0153_0047081  347.471383 -0.062198   \n",
       "51704      5582631  iDR4_3_STRIPE82-0100_0043294  308.477409  0.600608   \n",
       "\n",
       "               A         B  KRON_RADIUS    FWHM_n   e_r_iso      u_iso  ...  \\\n",
       "7776    0.000385  0.000369     4.238839  1.637378  0.036496  21.564539  ...   \n",
       "114998  0.000399  0.000357     3.077435  1.089862  0.003747  17.881552  ...   \n",
       "8312    0.000274  0.000234     2.937651  1.022394  0.046845  22.524202  ...   \n",
       "84509   0.000178  0.000164     1.820000  1.017672  0.088300  24.183031  ...   \n",
       "44133   0.000457  0.000179     6.751365  3.649573  0.112069  23.180239  ...   \n",
       "...          ...       ...          ...       ...       ...        ...  ...   \n",
       "20120   0.000437  0.000301     4.779213  2.377615  0.035711  22.395674  ...   \n",
       "70202   0.000223  0.000204     3.673313  0.999899  0.024551  21.335440  ...   \n",
       "64991   0.000279  0.000251     3.446228  1.027189  0.011164  20.553131  ...   \n",
       "31108   0.000190  0.000163     2.971901  1.123835  0.071066  22.143244  ...   \n",
       "51704   0.000208  0.000185     3.193929  0.995063  0.047021  23.369740  ...   \n",
       "\n",
       "        J0410_iso  J0430_iso      g_iso  J0515_iso      r_iso  J0660_iso  \\\n",
       "7776    22.045912  21.638773  20.991909  20.538094  19.725151  19.530891   \n",
       "114998  16.750145  16.639112  16.215332  15.992556  15.586078  15.530126   \n",
       "8312    20.575956  21.357530  20.426039  20.056948  19.726414  19.734976   \n",
       "84509   22.987413  23.227780  22.707138  23.228012  21.009428  21.049292   \n",
       "44133   21.703121  23.341938  21.783049  21.746008  20.927141  20.966413   \n",
       "...           ...        ...        ...        ...        ...        ...   \n",
       "20120   21.344511  21.128733  20.197447  20.205715  19.092392  18.886892   \n",
       "70202   21.267097  21.094860  19.864952  19.693230  18.986948  18.913212   \n",
       "64991   19.071726  19.101719  18.664106  18.445887  18.078062  18.066578   \n",
       "31108   21.676517  21.374115  21.078966  20.612246  20.740742  20.851492   \n",
       "51704   21.818657  21.141820  20.897827  20.824945  20.176888  20.056522   \n",
       "\n",
       "            i_iso  J0861_iso      z_iso  SEX_FLAGS_r  \n",
       "7776    19.195642  18.983278  18.834106          0.0  \n",
       "114998  15.359089  15.281968  15.248761          0.0  \n",
       "8312    19.388985  19.505713  19.364515          0.0  \n",
       "84509   20.307600  19.908516  19.922176          0.0  \n",
       "44133   20.567896  20.115513  20.216870          0.0  \n",
       "...           ...        ...        ...          ...  \n",
       "20120   18.457945  18.259588  18.159845          0.0  \n",
       "70202   18.687162  18.644405  18.563883          0.0  \n",
       "64991   17.946255  17.886286  17.894705          0.0  \n",
       "31108   20.618935  20.708536  20.492004          0.0  \n",
       "51704   19.893713  19.498377  19.544592          0.0  \n",
       "\n",
       "[117630 rows x 22 columns]"
      ]
     },
     "execution_count": 77,
     "metadata": {},
     "output_type": "execute_result"
    }
   ],
   "source": [
    "final_s"
   ]
  }
 ],
 "metadata": {
  "kernelspec": {
   "display_name": "Python 3.9.7 ('base')",
   "language": "python",
   "name": "python3"
  },
  "language_info": {
   "codemirror_mode": {
    "name": "ipython",
    "version": 3
   },
   "file_extension": ".py",
   "mimetype": "text/x-python",
   "name": "python",
   "nbconvert_exporter": "python",
   "pygments_lexer": "ipython3",
   "version": "3.9.7"
  },
  "orig_nbformat": 4,
  "vscode": {
   "interpreter": {
    "hash": "cb22f516c9dbd103206a5f1b8c3011b228f1ef9007f783aade126d2be20f1f6e"
   }
  }
 },
 "nbformat": 4,
 "nbformat_minor": 2
}
