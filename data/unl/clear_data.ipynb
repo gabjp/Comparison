{
 "cells": [
  {
   "cell_type": "markdown",
   "metadata": {},
   "source": [
    "# Explicação:\n",
    "Nesse arquivo há:\n",
    " - Junção e análise dos dados em catálogo usados para a tarefa de pré-treino.\n",
    "Especificamente:\n",
    " - Tratamento do arquivo de 22GB dos objetos do Stripe82 do DR4\n",
    " - Selecão de objetos para o primeiro conjunto de pré-treino (filtrados, sem valores de 99 e seguindo a distribuição correta)\n",
    " - Breve análise desses dados"
   ]
  },
  {
   "cell_type": "code",
   "execution_count": 2,
   "metadata": {},
   "outputs": [],
   "source": [
    "import pandas as pd\n",
    "import numpy as np\n"
   ]
  },
  {
   "cell_type": "markdown",
   "metadata": {},
   "source": [
    "### Gera CSV limpo:"
   ]
  },
  {
   "cell_type": "code",
   "execution_count": 4,
   "metadata": {},
   "outputs": [],
   "source": [
    "columns = ['ID', 'RA', 'DEC', 'A', 'B', 'KRON_RADIUS', 'FWHM_n', 'e_r_iso', 'u_iso', 'J0378_iso', 'J0395_iso', 'J0410_iso', 'J0430_iso', 'g_iso', 'J0515_iso', 'r_iso', \n",
    "'J0660_iso', 'i_iso', 'J0861_iso', 'z_iso','SEX_FLAGS_r']\n",
    "datafile = \"/media/gjperin/64gbgabriel/STRIPE82_iDR4.csv\"\n",
    "chunksize = 100000\n",
    "dfs = []\n",
    "for chunk in pd.read_csv(datafile, chunksize=chunksize):\n",
    "    useful = chunk[columns]\n",
    "    useful = useful[(useful.SEX_FLAGS_r == 0) & (useful.r_iso < 22)]\n",
    "    dfs.append(useful)\n",
    "\n",
    "final = pd.concat(dfs)"
   ]
  },
  {
   "cell_type": "code",
   "execution_count": 15,
   "metadata": {},
   "outputs": [],
   "source": [
    "final['ID'] = final['ID'].str[2:30]"
   ]
  },
  {
   "cell_type": "code",
   "execution_count": 14,
   "metadata": {},
   "outputs": [],
   "source": [
    "final.to_csv('./raw_tables/S82_clean.csv')"
   ]
  },
  {
   "cell_type": "markdown",
   "metadata": {},
   "source": [
    "### Retira objetos com classificação"
   ]
  },
  {
   "cell_type": "code",
   "execution_count": 3,
   "metadata": {},
   "outputs": [
    {
     "name": "stdout",
     "output_type": "stream",
     "text": [
      "unl possui 3179663 linhas\n",
      "clf possui 133131 linhas\n"
     ]
    }
   ],
   "source": [
    "unl = pd.read_csv(\"raw_tables/S82_clean.csv\")\n",
    "clf = pd.read_csv(\"../clf/clf.csv\")\n",
    "print(f\"unl possui {len(unl)} linhas\")\n",
    "print(f\"clf possui {len(clf)} linhas\")"
   ]
  },
  {
   "cell_type": "code",
   "execution_count": 4,
   "metadata": {},
   "outputs": [
    {
     "name": "stdout",
     "output_type": "stream",
     "text": [
      "x possui 3046532 linhas\n"
     ]
    }
   ],
   "source": [
    "clf = clf.ID\n",
    "x = pd.merge(unl,clf, indicator=True, how='outer', on=\"ID\").query('_merge==\"left_only\"').drop('_merge', axis=1)\n",
    "print(f\"x possui {len(x)} linhas\")"
   ]
  },
  {
   "cell_type": "markdown",
   "metadata": {},
   "source": [
    "### Retira objetos com magnitude 99"
   ]
  },
  {
   "cell_type": "code",
   "execution_count": 5,
   "metadata": {},
   "outputs": [],
   "source": [
    "x = x[(x['u_iso']!= 99) & (x['J0378_iso']!= 99) & (x['J0395_iso']!= 99) & (x['J0410_iso']!= 99) & (x['J0430_iso']!= 99) & (x['g_iso']!= 99) & (x['J0515_iso']!= 99) & \n",
    "      (x['r_iso'] != 99) & (x['J0660_iso']!= 99) & (x['i_iso']!= 99) & (x['J0861_iso']!= 99) & (x['z_iso']!= 99) ]"
   ]
  },
  {
   "cell_type": "markdown",
   "metadata": {},
   "source": [
    "### Análise da distribuição:"
   ]
  },
  {
   "cell_type": "code",
   "execution_count": 6,
   "metadata": {},
   "outputs": [
    {
     "name": "stdout",
     "output_type": "stream",
     "text": [
      "Existem 17648 objetos com magnitude <= 14\n",
      "Existem 25165 objetos com magnitude 14<r<=15 (2.1083242152744384%)\n",
      "Existem 44332 objetos com magnitude 15<r<=16 (3.714135867734806%)\n",
      "Existem 74477 objetos com magnitude 16<r<=17 (6.239684584978913%)\n",
      "Existem 120550 objetos com magnitude 17<r<=18 (10.099681468362151%)\n",
      "Existem 182653 objetos com magnitude 18<r<=19 (15.302672079973057%)\n",
      "Existem 238015 objetos com magnitude 19<r<=20 (19.940901573556342%)\n",
      "Existem 265689 objetos com magnitude 20<r<=21 (22.25942986020466%)\n",
      "Existem 225073 objetos com magnitude 21<r<=22 (18.856620548558062%)\n"
     ]
    }
   ],
   "source": [
    "print(f\"Existem {len(x[x.r_iso<=14])} objetos com magnitude <= 14\")\n",
    "for i in range(15,23):\n",
    "    c = len(x[(x.r_iso>i-1)&(x.r_iso<=i)])\n",
    "    print(f\"Existem {c} objetos com magnitude {i-1}<r<={i} ({c/len(x)*100}%)\")"
   ]
  },
  {
   "cell_type": "markdown",
   "metadata": {},
   "source": [
    "### Retirar objetos com erro maior que 0.05"
   ]
  },
  {
   "cell_type": "code",
   "execution_count": 15,
   "metadata": {},
   "outputs": [],
   "source": [
    "small_noise = x[x.e_r_iso < 0.05].sample(n=120000, axis = 'index', random_state=2)\n"
   ]
  },
  {
   "cell_type": "code",
   "execution_count": 20,
   "metadata": {},
   "outputs": [],
   "source": [
    "small_noise.to_csv(\"unl_small_noise.csv\")"
   ]
  },
  {
   "cell_type": "markdown",
   "metadata": {},
   "source": [
    "### Podar os dados para a distribuição desejada:"
   ]
  },
  {
   "cell_type": "code",
   "execution_count": 6,
   "metadata": {},
   "outputs": [],
   "source": [
    "p = {(19,20):238015, (20,21):190412, (18,19):174733, (21,22):155843, (17,18):104839, (16,17):51947, (15,16):23612, (14,15):1889}\n",
    "datafs = []\n",
    "for key in p.keys():\n",
    "    t = x[(x.r_iso > key[0]) & (x.r_iso <= key[1])]\n",
    "    datafs.append(t.sample(n = p[key], axis='index', random_state=2))\n",
    "final_b = pd.concat(datafs).reset_index(drop=True)"
   ]
  },
  {
   "cell_type": "code",
   "execution_count": 7,
   "metadata": {},
   "outputs": [
    {
     "data": {
      "text/plain": [
       "<matplotlib.axes._subplots.AxesSubplot at 0x7f8af8717af0>"
      ]
     },
     "execution_count": 7,
     "metadata": {},
     "output_type": "execute_result"
    },
    {
     "data": {
      "image/png": "[encoded data removed]",
      "text/plain": [
       "<Figure size 432x288 with 1 Axes>"
      ]
     },
     "metadata": {
      "needs_background": "light"
     },
     "output_type": "display_data"
    }
   ],
   "source": [
    "final_b.r_iso.hist(bins=15)"
   ]
  },
  {
   "cell_type": "code",
   "execution_count": 8,
   "metadata": {},
   "outputs": [],
   "source": [
    "p = {(19,20):238015//8, (20,21):190412//8, (18,19):174733//8, (21,22):155843//8, (17,18):104839//8, (16,17):51947//8, (15,16):23612//8, (14,15):1889//8}\n",
    "datafs = []\n",
    "for key in p.keys():\n",
    "    t = x[(x.r_iso > key[0]) & (x.r_iso <= key[1])]\n",
    "    datafs.append(t.sample(n = p[key], axis='index', random_state=2))\n",
    "final_s = pd.concat(datafs).reset_index(drop=True)"
   ]
  },
  {
   "cell_type": "code",
   "execution_count": 9,
   "metadata": {},
   "outputs": [
    {
     "data": {
      "text/plain": [
       "<matplotlib.axes._subplots.AxesSubplot at 0x7f8ad7e03ac0>"
      ]
     },
     "execution_count": 9,
     "metadata": {},
     "output_type": "execute_result"
    },
    {
     "data": {
      "image/png": "[encoded data removed]",
      "text/plain": [
       "<Figure size 432x288 with 1 Axes>"
      ]
     },
     "metadata": {
      "needs_background": "light"
     },
     "output_type": "display_data"
    }
   ],
   "source": [
    "final_s.r_iso.hist(bins=15)"
   ]
  },
  {
   "cell_type": "markdown",
   "metadata": {},
   "source": [
    "### Retira objetos sem imagem"
   ]
  },
  {
   "cell_type": "code",
   "execution_count": 10,
   "metadata": {},
   "outputs": [],
   "source": [
    "IDS = ['iDR4_3_STRIPE82-0074_0050444',\n",
    "'iDR4_3_STRIPE82-0088_0134958',\n",
    "'iDR4_3_STRIPE82-0119_0007873',\n",
    "'iDR4_3_STRIPE82-0121_0000836',\n",
    "'iDR4_3_STRIPE82-0134_0029763',\n",
    "'iDR4_3_STRIPE82-0087_0139570',\n",
    "'iDR4_3_STRIPE82-0042_0044839',\n",
    "'iDR4_3_STRIPE82-0130_0029840',\n",
    "'iDR4_3_STRIPE82-0158_0030865',\n",
    "'iDR4_3_STRIPE82-0087_0139219',\n",
    "'iDR4_3_STRIPE82-0110_0066277',\n",
    "'iDR4_3_STRIPE82-0088_0132786',\n",
    "'iDR4_3_STRIPE82-0110_0074857',\n",
    "'iDR4_3_STRIPE82-0088_0137405',\n",
    "'iDR4_3_STRIPE82-0042_0044898',\n",
    "'iDR4_3_STRIPE82-0121_0002535',\n",
    "'iDR4_3_STRIPE82-0110_0074358',\n",
    "'iDR4_3_STRIPE82-0119_0000975',\n",
    "'iDR4_3_STRIPE82-0088_0136078',\n",
    "'iDR4_3_STRIPE82-0034_0030830',\n",
    "'iDR4_3_STRIPE82-0092_0104473',\n",
    "'iDR4_3_STRIPE82-0119_0005304',\n",
    "'iDR4_3_STRIPE82-0121_0003994',\n",
    "'iDR4_3_STRIPE82-0121_0002900',\n",
    "'iDR4_3_STRIPE82-0119_0003104',\n",
    "'iDR4_3_STRIPE82-0036_0013965',\n",
    "'iDR4_3_STRIPE82-0088_0138553']\n",
    "final_s = final_s[~(final_s.ID.isin(IDS))]"
   ]
  },
  {
   "cell_type": "markdown",
   "metadata": {},
   "source": [
    "### Train/Test/Val Split"
   ]
  },
  {
   "cell_type": "code",
   "execution_count": 17,
   "metadata": {},
   "outputs": [],
   "source": [
    "from sklearn.model_selection import train_test_split\n",
    "train, test = train_test_split(final_s, test_size=0.25,random_state=2)\n",
    "train, val = train_test_split(train, test_size=0.2,random_state=2)\n",
    "train = train.assign(split=\"train\")\n",
    "test = test.assign(split=\"test\")\n",
    "val = val.assign(split=\"val\")\n",
    "final_s = pd.concat([train,test,val])    "
   ]
  },
  {
   "cell_type": "code",
   "execution_count": 19,
   "metadata": {},
   "outputs": [],
   "source": [
    "final_s.to_csv(\"unl_small.csv\")\n",
    "final_b.to_csv(\"unl_big.csv\")"
   ]
  },
  {
   "cell_type": "code",
   "execution_count": 2,
   "metadata": {},
   "outputs": [],
   "source": [
    "import pandas as pd\n",
    "final_s = pd.read_csv(\"unl_small.csv\")"
   ]
  },
  {
   "cell_type": "code",
   "execution_count": 15,
   "metadata": {},
   "outputs": [
    {
     "data": {
      "text/plain": [
       "36.972713"
      ]
     },
     "execution_count": 15,
     "metadata": {},
     "output_type": "execute_result"
    }
   ],
   "source": [
    "final_s[ ['u_iso', 'J0378_iso', 'J0395_iso', 'J0410_iso', 'J0430_iso', 'g_iso', 'J0515_iso', 'r_iso', \n",
    "'J0660_iso', 'i_iso', 'J0861_iso', 'z_iso']].max().max()"
   ]
  }
 ],
 "metadata": {
  "kernelspec": {
   "display_name": "Python 3.9.7 ('base')",
   "language": "python",
   "name": "python3"
  },
  "language_info": {
   "codemirror_mode": {
    "name": "ipython",
    "version": 3
   },
   "file_extension": ".py",
   "mimetype": "text/x-python",
   "name": "python",
   "nbconvert_exporter": "python",
   "pygments_lexer": "ipython3",
   "version": "3.9.7"
  },
  "orig_nbformat": 4,
  "vscode": {
   "interpreter": {
    "hash": "cb22f516c9dbd103206a5f1b8c3011b228f1ef9007f783aade126d2be20f1f6e"
   }
  }
 },
 "nbformat": 4,
 "nbformat_minor": 2
}
