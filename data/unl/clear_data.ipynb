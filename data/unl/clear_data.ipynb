{
 "cells": [
  {
   "cell_type": "markdown",
   "metadata": {},
   "source": [
    "# Explicação:\n",
    "Nesse arquivo há:\n",
    " - Junção e análise dos dados em catálogo usados para a tarefa de pré-treino."
   ]
  },
  {
   "cell_type": "code",
   "execution_count": 1,
   "metadata": {},
   "outputs": [],
   "source": [
    "import pandas as pd\n",
    "import numpy as np\n",
    "import matplotlib.pyplot as plt"
   ]
  },
  {
   "cell_type": "code",
   "execution_count": 3,
   "metadata": {},
   "outputs": [],
   "source": [
    "total = pd.concat([pd.read_csv(f\"raw_tables/result{i}.csv\") for i in range(1,9)])"
   ]
  },
  {
   "cell_type": "code",
   "execution_count": 5,
   "metadata": {},
   "outputs": [],
   "source": [
    "from sklearn.model_selection import train_test_split\n",
    "train,test = train_test_split(total,test_size=0.25,random_state=2)\n",
    "test = test.assign(test=1, train=0, validation=0, split=\"test\")\n",
    "train = train.assign(test=0)\n",
    "train,val = train_test_split(train,test_size=0.2,random_state=2)\n",
    "train = train.assign(train=1, validation=0, split=\"train\")\n",
    "val = val.assign(train=0, validation=1, split=\"val\")\n",
    "final = pd.concat([train,test,val])"
   ]
  },
  {
   "cell_type": "markdown",
   "metadata": {},
   "source": [
    "## Análise da distribuição de magnitude:"
   ]
  },
  {
   "cell_type": "code",
   "execution_count": 8,
   "metadata": {},
   "outputs": [
    {
     "data": {
      "text/plain": [
       "<matplotlib.axes._subplots.AxesSubplot at 0x7f940e36f2b0>"
      ]
     },
     "execution_count": 8,
     "metadata": {},
     "output_type": "execute_result"
    },
    {
     "data": {
      "image/png": "[encoded data removed]",
      "text/plain": [
       "<Figure size 432x288 with 1 Axes>"
      ]
     },
     "metadata": {
      "needs_background": "light"
     },
     "output_type": "display_data"
    }
   ],
   "source": [
    "plt.title(\"mag_r <22\")\n",
    "final.r_iso.hist(bins=15)"
   ]
  },
  {
   "cell_type": "code",
   "execution_count": 9,
   "metadata": {},
   "outputs": [
    {
     "name": "stdout",
     "output_type": "stream",
     "text": [
      "Existem 98 objetos com magnitude <= 14\n",
      "Existem 200 objetos com magnitude 14<r<=15\n",
      "Existem 3308 objetos com magnitude 15<r<=16\n",
      "Existem 7327 objetos com magnitude 16<r<=17\n",
      "Existem 14803 objetos com magnitude 17<r<=18\n",
      "Existem 24564 objetos com magnitude 18<r<=19\n",
      "Existem 33546 objetos com magnitude 19<r<=20\n",
      "Existem 27330 objetos com magnitude 20<r<=21\n",
      "Existem 21955 objetos com magnitude 21<r<=22\n"
     ]
    }
   ],
   "source": [
    "print(f\"Existem {len(final[final.r_iso<=14])} objetos com magnitude <= 14\")\n",
    "for i in range(15,23):\n",
    "    print(f\"Existem {len(final[(final.r_iso>i-1)&(final.r_iso<=i)])} objetos com magnitude {i-1}<r<={i}\")"
   ]
  },
  {
   "cell_type": "markdown",
   "metadata": {},
   "source": [
    "## Salvando em csv:"
   ]
  },
  {
   "cell_type": "code",
   "execution_count": 10,
   "metadata": {},
   "outputs": [],
   "source": [
    "final.reset_index().drop(columns='index').to_csv(\"unl.csv\")"
   ]
  }
 ],
 "metadata": {
  "kernelspec": {
   "display_name": "Python 3.9.7 ('base')",
   "language": "python",
   "name": "python3"
  },
  "language_info": {
   "codemirror_mode": {
    "name": "ipython",
    "version": 3
   },
   "file_extension": ".py",
   "mimetype": "text/x-python",
   "name": "python",
   "nbconvert_exporter": "python",
   "pygments_lexer": "ipython3",
   "version": "3.9.7"
  },
  "orig_nbformat": 4,
  "vscode": {
   "interpreter": {
    "hash": "cb22f516c9dbd103206a5f1b8c3011b228f1ef9007f783aade126d2be20f1f6e"
   }
  }
 },
 "nbformat": 4,
 "nbformat_minor": 2
}
